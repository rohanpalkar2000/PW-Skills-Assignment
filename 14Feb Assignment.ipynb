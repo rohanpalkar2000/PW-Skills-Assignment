{
 "cells": [
  {
   "cell_type": "markdown",
   "id": "4904e475-c481-416f-b374-b2b708aeed3d",
   "metadata": {},
   "source": [
    "# Question 1: What is multithreading in python? Why is it used? Name the module used to handle threads in python"
   ]
  },
  {
   "cell_type": "markdown",
   "id": "5f766a80-e2c5-4536-b72e-11e793e5994b",
   "metadata": {},
   "source": [
    "Multithreading is a threading technique in Python programming to run multiple threads concurrently by rapidly switching between threads with a CPU help (called context switching). Besides, it allows sharing of its data space with the main threads inside a process that share information and communication with other threads easier than individual processes. Multithreading aims to perform multiple tasks simultaneously, which increases performance, speed and improves the rendering of the application.\n",
    "\n",
    "**Why use?**\n",
    "* It saves time by executing multiple threads at the same time\n",
    "* It makes the multiprocessor architecture more effective due to similarity.\n",
    "* Multithreaded applications are more responsive.\n",
    "* It ensures effective utilization of computer system resources.\n",
    "* It shares resources and its state with sub-threads (child) which makes it more economical.\n",
    "\n",
    "\n",
    "The threading module exposes all the methods of the thread module and provides some additional methods :−\n",
    "\n",
    "* threading.activeCount() − Returns the number of thread objects that are active.\n",
    "* threading.currentThread() − Returns the number of thread objects in the caller's thread control.\n",
    "* threading.enumerate() − Returns a list of all thread objects that are currently active."
   ]
  },
  {
   "cell_type": "markdown",
   "id": "e8440440-bd5f-4621-9d56-998d719bfe40",
   "metadata": {},
   "source": [
    "# Question: 2: Why threading module used? Write the use of the following functions\n",
    "\n",
    "**1.activeCount**\n",
    "\n",
    "**2.currentThread**\n",
    "\n",
    "**3.enumerate**"
   ]
  },
  {
   "cell_type": "markdown",
   "id": "24c988e7-c6a1-43d9-b526-677c3cc8df65",
   "metadata": {},
   "source": [
    "The threading module provided with Python includes a simple-to-implement locking mechanism that allows you to synchronize threads. A new lock is created by calling the Lock() method, which returns the new lock. The acquire(blocking) method of the new lock object is used to force threads to run synchronously.\n",
    "\n",
    "**activeCount :-**\n",
    "active_count() is an inbuilt method of the threading module in Python. It is used to return the number of Thread objects that are active at any instant.\n",
    "\n",
    "#Syntax: \n",
    "active_count()\n",
    "\n",
    "**currentThread :-**\n",
    "current_thread() is an inbuilt method of the threading module in Python. It is used to return the current Thread object, which corresponds to the caller's thread of control.\n",
    "\n",
    "#syntax: \n",
    " current_thread()\n",
    " \n",
    "**enumerate :-**\n",
    "when dealing with iterators, we also get need to keep a count of iterations. Python eases the programmers’ task by providing a built-in function enumerate() for this task. Enumerate() method adds a counter to an iterable and returns it in a form of enumerating object. This enumerated object can then be used directly for loops or converted into a list of tuples using the list() function.\n",
    "\n",
    "#syntax:\n",
    "enumerate(iterable, start=0)"
   ]
  },
  {
   "cell_type": "markdown",
   "id": "b8bb4090-6090-4bcd-9bcd-67f769d21aff",
   "metadata": {},
   "source": [
    "# Question: 3: Explain the following functions\n",
    "\n",
    "**1.run()**\n",
    "\n",
    "**2.start()**\n",
    "\n",
    "**3.join()**\n",
    "\n",
    "**4.isAlive()**"
   ]
  },
  {
   "cell_type": "markdown",
   "id": "4e4eee56-e21c-4a51-b921-3d62fe4ec2fe",
   "metadata": {},
   "source": [
    "**run()**\n",
    "Python is a well known high-level programming language. The Python script is basically a file containing code written in Python. The file containing python script has the extension ‘.py’ or can also have the extension ‘.pyw’ if it is being run on a windows machine. To run a python script, we need a python interpreter that needs to be downloaded and installed.\n",
    "\n",
    "\n",
    "**start()**\n",
    "start() method is an inbuilt method of the Thread class of the threading module in Python. It is used to start a thread's activity. This method calls the run() method internally which then executes the target method. This method must be called at most one time for one thread.\n",
    "\n",
    "#syntax: start()\n",
    "\n",
    "\n",
    "**join()**\n",
    "join() is an inbuilt string function in Python used to join elements of the sequence separated by a string separator. This function joins elements of a sequence and makes it a string.\n",
    "\n",
    "#syntax: string.join(iterable)\n",
    "\n",
    "\n",
    "**isAlive()**\n",
    "Thread.is_alive() method is an inbuilt method of the Thread class of the threading module in Python. It uses a Thread object, and checks whether that thread is alive or not, ie, it is still running or not. This method returns True before the run() starts until just after the run() method is executed.\n",
    "\n",
    "#syntax: is_alive()\n"
   ]
  },
  {
   "cell_type": "markdown",
   "id": "cc125e37-1ac1-4e9d-b5bf-ef1bf93e346b",
   "metadata": {},
   "source": [
    "# Question: 4: Write a python program to create two threads. Thread one must print the list of squares and thread two must print the list of cubes"
   ]
  },
  {
   "cell_type": "code",
   "execution_count": 3,
   "id": "fa5e44a2-1579-4b41-9fdf-ef7afaa6f076",
   "metadata": {},
   "outputs": [
    {
     "name": "stdout",
     "output_type": "stream",
     "text": [
      "Square: 144\n",
      "Cube: 1728\n"
     ]
    }
   ],
   "source": [
    "#Write a python program to create two threads.\n",
    "import threading\n",
    "\n",
    "\n",
    "def print_cube(num):\n",
    "\t# print cube of given num\n",
    "\tprint(\"Cube: {}\" .format(num * num * num))\n",
    "\n",
    "\n",
    "def print_square(num):\n",
    "\t# print square of given num\n",
    "\tprint(\"Square: {}\" .format(num * num))\n",
    "\n",
    "\n",
    "if __name__ ==\"__main__\":\n",
    "\t# creating thread\n",
    "\tt1 = threading.Thread(target=print_square, args=(12,))\n",
    "\tt2 = threading.Thread(target=print_cube, args=(12,))\n",
    "\n",
    "\tt1.start()\n",
    "\tt2.start()\n",
    "\n",
    "\t# wait until thread 1 is completely executed\n",
    "\tt1.join()\n",
    "\t# wait until thread 2 is completely executed\n",
    "\tt2.join()"
   ]
  },
  {
   "cell_type": "markdown",
   "id": "9b7a64ec-87da-4c14-af45-d0e773cbeae3",
   "metadata": {},
   "source": [
    "# Question: 5: State advantages and disadvantages of multithreading"
   ]
  },
  {
   "cell_type": "markdown",
   "id": "ad232d45-936b-42e1-9706-00d743e4d9ca",
   "metadata": {},
   "source": [
    "**######## Advantages of Multithreading :-**\n",
    "* Improved performance and concurrency\n",
    "\n",
    "For certain applications, performance and concurrency can be improved by using multithreading and multicontexting together. In other applications, performance can be unaffected or even degraded by using multithreading and multicontexting together. How performance is affected depends on your application.\n",
    "\n",
    "* Simplified coding of remote procedure calls and conversations\n",
    "\n",
    "In some applications it is easier to code different remote procedure calls and conversations in separate threads than to manage them from the same thread.\n",
    "\n",
    "* Simultaneous access to multiple applications\n",
    "\n",
    "Your BEA Tuxedo clients can be connected to more than one application at a time.\n",
    "\n",
    "* Reduced number of required servers\n",
    "\n",
    "Because one server can dispatch multiple service threads, the number of servers to start for your application is reduced. This capability for multiple dispatched threads is especially useful for conversational servers.\n",
    "\n",
    "\n",
    "\n",
    "\n",
    "**############ Disadvantages of Multithreading :-**\n",
    "* Difficulty of writing code\n",
    "\n",
    "Multithreaded and multicontexted applications are not easy to write. Only experienced programmers should undertake coding for these types of applications.\n",
    "\n",
    "* Difficulty of debugging\n",
    "\n",
    "It is much harder to replicate an error in a multithreaded or multicontexted application than it is to do so in a single-threaded, single-contexted application. As a result, it is more difficult, in the former case, to identify and verify root causes when errors occur.\n",
    "\n",
    "\n",
    "* Difficulty of managing concurrency\n",
    "\n",
    "The task of managing concurrency among threads is difficult and has the potential to introduce new problems into an application.\n",
    "\n",
    "\n",
    "* Difficulty of testing\n",
    "\n",
    "Testing a multithreaded application is more difficult than testing a single-threaded application because defects are often timing-related and more difficult to reproduce.\n",
    "\n",
    "\n",
    "* Difficulty of porting existing code\n",
    "\n",
    "Existing code often requires significant re-architecting to take advantage of multithreading and multicontexting. Programmers need to:\n",
    "\n",
    "1.Remove static variables\n",
    "\n",
    "2.Replace any function calls that are not thread-safe\n",
    "\n",
    "3.Replace any other code that is not thread-safe"
   ]
  },
  {
   "cell_type": "markdown",
   "id": "bb13f75a-924e-4a2a-9e00-8f94c391a735",
   "metadata": {},
   "source": [
    "# Question: 6: Explain deadlocks and race conditions."
   ]
  },
  {
   "cell_type": "markdown",
   "id": "0c2d4397-70da-4e71-855b-ce6cf214756f",
   "metadata": {},
   "source": [
    "**deadlocks  :-**\n",
    "\n",
    "When two processes are waiting for each other directly or indirectly, it is called deadlock.\n",
    "\n",
    "This usually occurs when two processes are waiting for shared resources acquired by others. For example, If thread T1 acquired resource R1 and it also needs resource R2 for it to accomplish its task. But the resource R2 is acquired by thread T2 which is waiting for resource R1(which is acquired by T1).. Neither of them will be able to accomplish its task, as they keep waiting for the other resources they need.\n",
    "process 1 is waiting for process 2 and process 2 is waiting for process 3 to finish and process 3 is waiting for process 1 to finish. All these three processes would keep waiting and will never end. This is called deadlock.\n",
    "\n",
    "**race conditions  :-**\n",
    "When two processes are competing with each other causing data corruption.\n",
    "\n",
    "A race condition occurs when two threads access a shared variable at the same time. The first thread reads the variable, and the second thread reads the same value from the variable. Then the first thread and second thread perform their operations on the value, and they race to see which thread can write the value last to the shared variable. The value of the thread that writes its value last is preserved, because the thread is writing over the value that the previous thread wrote.\n",
    "\n",
    "Thread 1\n",
    "Total = Total + val1\n",
    "\n",
    "Thread 2\n",
    "Total = Total - val2"
   ]
  }
 ],
 "metadata": {
  "kernelspec": {
   "display_name": "Python 3 (ipykernel)",
   "language": "python",
   "name": "python3"
  },
  "language_info": {
   "codemirror_mode": {
    "name": "ipython",
    "version": 3
   },
   "file_extension": ".py",
   "mimetype": "text/x-python",
   "name": "python",
   "nbconvert_exporter": "python",
   "pygments_lexer": "ipython3",
   "version": "3.10.8"
  }
 },
 "nbformat": 4,
 "nbformat_minor": 5
}
