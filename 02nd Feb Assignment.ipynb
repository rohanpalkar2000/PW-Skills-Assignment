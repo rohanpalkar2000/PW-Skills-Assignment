{
 "cells": [
  {
   "cell_type": "code",
   "execution_count": 6,
   "id": "b82b8fd1-b362-4d58-bcae-4317f2cc1af9",
   "metadata": {},
   "outputs": [
    {
     "name": "stdout",
     "output_type": "stream",
     "text": [
      "1\n",
      "2\n",
      "3\n",
      "4\n",
      "5\n",
      "6\n",
      "-----------------------\n",
      "1\n",
      "2\n",
      "3\n",
      "4\n",
      "5\n",
      "-----------------------\n",
      "1\n",
      "2\n",
      "3\n",
      "4\n",
      "-----------------------\n",
      "1\n",
      "2\n",
      "4\n",
      "5\n",
      "6\n"
     ]
    }
   ],
   "source": [
    "#Quesion 1: Explain with an example each when to use a for loop and a while loop.\n",
    "\n",
    "#######for loop :- ##############\n",
    "#for loop is used as a block of code which we want to repeat a fixed number of times.\n",
    "#The for-loop is always used in combination with an iterable object, like a list or a range. \n",
    "#The Python for statement iterates over the members of a sequence in order, executing the block each time.\n",
    "\n",
    "#example:\n",
    "n = [1,2,3,4,5,6]   #value initialization\n",
    "for i in n:  #condition\n",
    "    print(i)\n",
    "    \n",
    "print(\"-----------------------\")\n",
    "\n",
    "\n",
    "####### while loop #############\n",
    "#With the while loop we can execute a set of statements as long as a condition is true.\n",
    "#The while loop requires relevant variables to be ready.\n",
    "#The keyword used to represent this loop is \"while\". A \"while\" loop is used when the number of iterations is unknown. \n",
    "#The statement repeats itself till the boolean value becomes false\n",
    "\n",
    "#example:\n",
    "i = 1  # value Initialization\n",
    "while i < 6:  # Condition\n",
    "    print(i)\n",
    "    i += 1  # Updation\n",
    "    \n",
    "print(\"-----------------------\")\n",
    "\n",
    "\n",
    "#while loop break statement:\n",
    "#With the break statement we can stop the loop even if the while condition is true.\n",
    "i = 1\n",
    "while i < 6:\n",
    "    print(i)\n",
    "    if i == 4:\n",
    "        break\n",
    "    i += 1\n",
    "\n",
    "    \n",
    "print(\"-----------------------\")\n",
    "    \n",
    "#while loop continue statement :\n",
    "#With the continue statement we can stop the current iteration, and continue with the next.\n",
    "\n",
    "i = 0\n",
    "while i < 6:\n",
    "    i += 1\n",
    "    if i == 3:\n",
    "        continue\n",
    "    print(i)"
   ]
  },
  {
   "cell_type": "code",
   "execution_count": 48,
   "id": "a71a47e6-84ef-44ac-a27d-217232470b47",
   "metadata": {},
   "outputs": [
    {
     "name": "stdout",
     "output_type": "stream",
     "text": [
      "###### sum of first 10 natural number ##########\n",
      "\n"
     ]
    },
    {
     "name": "stdin",
     "output_type": "stream",
     "text": [
      "Enter number =  10\n"
     ]
    },
    {
     "name": "stdout",
     "output_type": "stream",
     "text": [
      "sum is:  1\n",
      "sum is:  3\n",
      "sum is:  6\n",
      "sum is:  10\n",
      "sum is:  15\n",
      "sum is:  21\n",
      "sum is:  28\n",
      "sum is:  36\n",
      "sum is:  45\n",
      "sum is:  55\n",
      "\n",
      "-----------------------\n",
      " ###### product of first 10 natural number ##########\n",
      "\n"
     ]
    },
    {
     "name": "stdin",
     "output_type": "stream",
     "text": [
      "Enter number =  10\n"
     ]
    },
    {
     "name": "stdout",
     "output_type": "stream",
     "text": [
      "product is:  1\n",
      "product is:  2\n",
      "product is:  6\n",
      "product is:  24\n",
      "product is:  120\n",
      "product is:  720\n",
      "product is:  5040\n",
      "product is:  40320\n",
      "product is:  362880\n",
      "product is:  3628800\n"
     ]
    }
   ],
   "source": [
    "#Question 2: Write a python program to print the sum and product of the first 10 natural numbers using forand while loop.\n",
    "\n",
    "print(\"###### sum of first 10 natural number ##########\\n\")    \n",
    "    \n",
    "num = int(input(\"Enter number = \"))\n",
    "sum = 0\n",
    "i = 1\n",
    "while i <= num:\n",
    "    sum = sum + i\n",
    "    i = i + 1\n",
    "    print(\"sum is: \",sum)\n",
    "    \n",
    "print(\"\\n-----------------------\\n ###### product of first 10 natural number ##########\\n\")    \n",
    "    \n",
    "num = int(input(\"Enter number = \"))\n",
    "product = 1\n",
    "i = 1\n",
    "while i <= num:\n",
    "    product = product * i\n",
    "    i = i + 1\n",
    "    print(\"product is: \",product)"
   ]
  },
  {
   "cell_type": "code",
   "execution_count": 91,
   "id": "1a9a7f0f-483c-46a7-b4f8-c91109d159d7",
   "metadata": {},
   "outputs": [
    {
     "name": "stdin",
     "output_type": "stream",
     "text": [
      "please enter the number of units:  310\n"
     ]
    },
    {
     "name": "stdout",
     "output_type": "stream",
     "text": [
      "\n",
      "Electicity bill=2250.00\n"
     ]
    }
   ],
   "source": [
    "# Question 3: Create a python program to compute the electricity bill for a household.\n",
    "#The per-unit charges in rupees are as follows: For the first 100 units, the user will be charged Rs. 4.5 per\n",
    "#unit, for the next 100 units, the user will be charged Rs. 6 per unit, and for the next 100 units, the user will\n",
    "#be charged Rs. 10 per unit, After 300 units and above the user will be charged Rs. 20 per unit.\n",
    "\n",
    "\n",
    "    # 1 - 100 unit - 4.5/= \n",
    "    # 101-200 unit - 6/= \n",
    "    # 201-300 unit - 10/= \n",
    "    # above 300 unit - 20/=\n",
    "\n",
    "\n",
    "units=int(input(\"please enter the number of units: \"))\n",
    "if(units<=100):\n",
    "    payAmount=units*4.5\n",
    "elif(units<=200):\n",
    "    payAmount=(100*4.5)+(units-100)*6\n",
    "elif(units<=300):\n",
    "    payAmount=(100*4.5)+(200-100)*6+(units-200)*10\n",
    "elif(units>300):\n",
    "    payAmount=(100*4.5)+(200-100)*6+(300-200)*10+(units-300)*20\n",
    "else:\n",
    "    payAmount=0\n",
    "    \n",
    "Total=payAmount;\n",
    "print(\"\\nElecticity bill=%.2f\" %Total)"
   ]
  },
  {
   "cell_type": "code",
   "execution_count": 14,
   "id": "d8e45006-81b8-4017-8c36-2369752f7a81",
   "metadata": {},
   "outputs": [
    {
     "name": "stdout",
     "output_type": "stream",
     "text": [
      "[1, 2, 3, 4, 5, 6, 7, 8, 9, 10, 11, 12, 13, 14, 15, 16, 17, 18, 19, 20, 21, 22, 23, 24, 25, 26, 27, 28, 29, 30, 31, 32, 33, 34, 35, 36, 37, 38, 39, 40, 41, 42, 43, 44, 45, 46, 47, 48, 49, 50, 51, 52, 53, 54, 55, 56, 57, 58, 59, 60, 61, 62, 63, 64, 65, 66, 67, 68, 69, 70, 71, 72, 73, 74, 75, 76, 77, 78, 79, 80, 81, 82, 83, 84, 85, 86, 87, 88, 89, 90, 91, 92, 93, 94, 95, 96, 97, 98, 99, 100]\n",
      "\n",
      "\n",
      "cube of 1 to 100 number :-\n",
      "\n",
      "[1, 8, 27, 64, 125, 216, 343, 512, 729, 1000, 1331, 1728, 2197, 2744, 3375, 4096, 4913, 5832, 6859, 8000, 9261, 10648, 12167, 13824, 15625, 17576, 19683, 21952, 24389, 27000, 29791, 32768, 35937, 39304, 42875, 46656, 50653, 54872, 59319, 64000, 68921, 74088, 79507, 85184, 91125, 97336, 103823, 110592, 117649, 125000, 132651, 140608, 148877, 157464, 166375, 175616, 185193, 195112, 205379, 216000, 226981, 238328, 250047, 262144, 274625, 287496, 300763, 314432, 328509, 343000, 357911, 373248, 389017, 405224, 421875, 438976, 456533, 474552, 493039, 512000, 531441, 551368, 571787, 592704, 614125, 636056, 658503, 681472, 704969, 729000, 753571, 778688, 804357, 830584, 857375, 884736, 912673, 941192, 970299, 1000000]\n",
      "\n",
      "\n",
      "cube that divisible by 4 and 5 are:\n",
      "  [8, 64, 125, 216, 512, 1000, 1728, 2744, 3375, 4096, 5832, 8000, 10648, 13824, 15625, 17576, 21952, 27000, 32768, 39304, 42875, 46656, 54872, 64000, 74088, 85184, 91125, 97336, 110592, 125000, 140608, 157464, 166375, 175616, 195112, 216000, 238328, 262144, 274625, 287496, 314432, 343000, 373248, 405224, 421875, 438976, 474552, 512000, 551368, 592704, 614125, 636056, 681472, 729000, 778688, 830584, 857375, 884736, 941192, 1000000]\n",
      "\n",
      "\n",
      "cube that divisible by 4 and 5 are:\n",
      "  [8, 64, 125, 216, 512, 1000, 1728, 2744, 3375, 4096, 5832, 8000, 10648, 13824, 15625, 17576, 21952, 27000, 32768, 39304, 42875, 46656, 54872, 64000, 74088, 85184, 91125, 97336, 110592, 125000, 140608, 157464, 166375, 175616, 195112, 216000, 238328, 262144, 274625, 287496, 314432, 343000, 373248, 405224, 421875, 438976, 474552, 512000, 551368, 592704, 614125, 636056, 681472, 729000, 778688, 830584, 857375, 884736, 941192, 1000000]\n"
     ]
    }
   ],
   "source": [
    "#Question 4: Create a list of numbers from 1 to 100. Use for loop and while loop to calculate the cube of each\n",
    "#number and if the cube of that number is divisible by 4 or 5 then append that number in a list and print that list.\n",
    "\n",
    " \n",
    "l = list(range(1,101))\n",
    "print(l) \n",
    "print(\"\\n\")\n",
    "\n",
    "#calcculate the cube\n",
    "print(\"cube of 1 to 100 number :-\\n\")\n",
    "res = []\n",
    "for i in l:\n",
    "    res.append(i*i*i)\n",
    "print(res)\n",
    "\n",
    "\n",
    "\n",
    "print(\"\\n\")\n",
    "#cube divisible by 4 and 5 unsing for loop\n",
    "number = []\n",
    "cube_divisible = []\n",
    "for i in range(1,101):\n",
    "    number.append(i)\n",
    "    cube = i**3\n",
    "    if cube%4==0 or cube%5==0:\n",
    "        cube_divisible.append(cube)\n",
    "print(\"cube that divisible by 4 and 5 are:\\n \",cube_divisible)\n",
    "\n",
    "\n",
    "\n",
    "print(\"\\n\")\n",
    "#cube divisible by 4 and 5 unsing while loop\n",
    "number = []\n",
    "cube_divisible = []\n",
    "i = 1\n",
    "while i<=100:\n",
    "    number.append(i)\n",
    "    cube = i**3\n",
    "    if cube%4==0 or cube%5==0:\n",
    "        cube_divisible.append(cube)\n",
    "    i += 1\n",
    "print(\"cube that divisible by 4 and 5 are:\\n \",cube_divisible)"
   ]
  },
  {
   "cell_type": "code",
   "execution_count": 1,
   "id": "06882e2d-2b69-4c49-96c9-88a97d1a82e4",
   "metadata": {},
   "outputs": [
    {
     "name": "stdout",
     "output_type": "stream",
     "text": [
      "Number of vowels are:\n",
      "12\n"
     ]
    }
   ],
   "source": [
    "# Question 5: Write a program to filter count vowels in the below-given string.\n",
    "\n",
    "\n",
    "\n",
    "string = \"I want to become a data scientist\"\n",
    "vowels=0\n",
    "for i in string:\n",
    "      if(i=='a' or i=='e' or i=='i' or i=='o' or i=='u' or i=='A' or i=='E' or i=='I' or i=='O' or i=='U'):\n",
    "            vowels=vowels+1\n",
    "print(\"Number of vowels are:\")\n",
    "print(vowels)"
   ]
  }
 ],
 "metadata": {
  "kernelspec": {
   "display_name": "Python 3 (ipykernel)",
   "language": "python",
   "name": "python3"
  },
  "language_info": {
   "codemirror_mode": {
    "name": "ipython",
    "version": 3
   },
   "file_extension": ".py",
   "mimetype": "text/x-python",
   "name": "python",
   "nbconvert_exporter": "python",
   "pygments_lexer": "ipython3",
   "version": "3.10.8"
  }
 },
 "nbformat": 4,
 "nbformat_minor": 5
}
