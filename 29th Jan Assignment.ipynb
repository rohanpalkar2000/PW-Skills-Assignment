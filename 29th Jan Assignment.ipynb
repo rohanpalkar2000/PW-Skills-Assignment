{
 "cells": [
  {
   "cell_type": "code",
   "execution_count": null,
   "id": "c14290c7-e872-43df-aea4-c042db0610ee",
   "metadata": {},
   "outputs": [],
   "source": [
    "1. Who developed pyhton programming language?\n",
    "\n",
    "Guido van Rossum"
   ]
  },
  {
   "cell_type": "code",
   "execution_count": null,
   "id": "d610f113-141f-4086-b75b-cd44175a04ea",
   "metadata": {},
   "outputs": [],
   "source": [
    "2. Which type of programming does python support?\n",
    "\n",
    "object oriented programming and structured programming"
   ]
  },
  {
   "cell_type": "code",
   "execution_count": null,
   "id": "89e06640-c646-42a1-a4fc-85a283450b88",
   "metadata": {},
   "outputs": [],
   "source": [
    "3. Is python case senitive when dealing with identifiers\n",
    "\n",
    "yes"
   ]
  },
  {
   "cell_type": "code",
   "execution_count": null,
   "id": "cf4c8dfb-be41-435e-a3c3-8af2905d6fb9",
   "metadata": {},
   "outputs": [],
   "source": [
    "4. What i the correcct extesion of the python file?\n",
    "\n",
    ".py"
   ]
  },
  {
   "cell_type": "code",
   "execution_count": null,
   "id": "dc07ab36-3a87-446f-a9f6-862a0a1457fb",
   "metadata": {},
   "outputs": [],
   "source": [
    "5. Is python code compiled or interpreted?\n",
    "\n",
    "python is interprated language"
   ]
  },
  {
   "cell_type": "code",
   "execution_count": null,
   "id": "3db047e6-cb05-45ed-9c90-8541eba32c12",
   "metadata": {
    "tags": []
   },
   "outputs": [],
   "source": [
    "6. Name a few blocks of code used to define in python language?\n",
    "\n",
    "Braces{}"
   ]
  },
  {
   "cell_type": "code",
   "execution_count": null,
   "id": "812ba681-47d1-414e-aca2-44bce87f8d09",
   "metadata": {},
   "outputs": [],
   "source": [
    "7. State a character used to give single-line comments in python?\n",
    "\n",
    "print(\"Hello, Welcome to PW Skills\")"
   ]
  },
  {
   "cell_type": "code",
   "execution_count": null,
   "id": "c65180ae-f39f-4bf2-941b-6fb10820770e",
   "metadata": {},
   "outputs": [],
   "source": [
    "8. Mention functions which can help us to find the version of python that we are currently working on?\n",
    "\n",
    "sys.version"
   ]
  },
  {
   "cell_type": "code",
   "execution_count": null,
   "id": "c826615e-8812-4840-941e-759c6ec9e538",
   "metadata": {},
   "outputs": [],
   "source": [
    "9. python supports the creation of anonymous unctions at runtime, using a construct called.........\n",
    "\n",
    "lambda"
   ]
  },
  {
   "cell_type": "code",
   "execution_count": null,
   "id": "d77eff00-d7eb-48f6-a0de-cee1461c5052",
   "metadata": {},
   "outputs": [],
   "source": [
    "10. What does pip stans for python?\n",
    "\n",
    "preferred installer program"
   ]
  },
  {
   "cell_type": "code",
   "execution_count": null,
   "id": "a3992f4e-d3f0-4e05-b282-f1cec3f6d81d",
   "metadata": {},
   "outputs": [],
   "source": [
    "11. Mention a few built in function in python?\n",
    "\n",
    "float()\n",
    "int()\n",
    "list()\n",
    "len()\n",
    "min()\n",
    "max()\n",
    "print()\n",
    "sum()\n",
    "str()\n",
    "range()"
   ]
  },
  {
   "cell_type": "code",
   "execution_count": null,
   "id": "95c6b388-2282-4740-b715-c1e7c61feda7",
   "metadata": {},
   "outputs": [],
   "source": [
    "12. what is the maximum possible length of an identifier in python?\n",
    "\n",
    "79 characters"
   ]
  },
  {
   "cell_type": "code",
   "execution_count": null,
   "id": "310c418b-fcfe-4b80-997f-fcc49b8a4ab1",
   "metadata": {},
   "outputs": [],
   "source": [
    "13. what are the benefits of using python?\n",
    "\n",
    "Python programming language is a general-purpose, interpreted, and \n",
    "high-level programming language that mainly offers code readability.\n",
    "It is largely used by professional programmers and developers across a variety of fields, \n",
    "including Web Development and Machine Learning."
   ]
  },
  {
   "cell_type": "code",
   "execution_count": null,
   "id": "e8e276df-1f0c-426d-9835-a9b782821649",
   "metadata": {},
   "outputs": [],
   "source": [
    "14. how is memory manage in python?\n",
    "\n",
    "Python involves a private heap containing all Python objects and data structures. \n",
    "The management of this private heap is ensured internally by the Python memory manager.\n",
    "debug memory usage in Python using the garbage collector inbuilt module. \n",
    "That will provide you a list of objects known by the garbage collectors. \n",
    "Debugging allows you to see where much of the Python storage memory is being applied.\n",
    "Then,go ahead and filter everything based on usage."
   ]
  },
  {
   "cell_type": "code",
   "execution_count": null,
   "id": "1842f00a-918f-4727-b313-fc1347ae3696",
   "metadata": {},
   "outputs": [],
   "source": [
    "15. how to install python on windows and set path varibles?\n",
    "\n",
    "steps for installing python:-\n",
    "(1)Open a browser to the Python website and download the Windows installer.    \n",
    "(2)Double click on the downloaded file and install Python for all users, and ensure that Python is added to your path. Click on Install now to begin.\n",
    "(3)After the installation is complete, click Disable path length limit and then Close.\n",
    "(4)Click Close to end the installation.\n",
    "\n",
    "\n",
    "\n",
    "steps for set path:-\n",
    "(1)Type “Python” in the Windows Search Bar.\n",
    "(2)Right-click on the Python App, and then select “Open file location“\n",
    "(3)Right-click again on the Python shortcut, and then select “Open file location“\n",
    "(4)copy the path location\n",
    "(5)Right-clicking This PC and going to Properties.\n",
    "(6)click on advanced settings\n",
    "(7)Click on the Environment Variables button\n",
    "(8)In System variables select the Path variable and clicking on Edit. The next screen will show all the directories that are currently a part of the PATH variable.\n",
    "(9)Clicking on New and enter the Python’s install directory."
   ]
  },
  {
   "cell_type": "code",
   "execution_count": null,
   "id": "645a7d75-6f82-41db-b0c7-4816c78b815d",
   "metadata": {},
   "outputs": [],
   "source": [
    "16. Is indentation required in python?\n",
    "\n",
    "Yes, indetation is required.Python uses indentation to indicate a block of code."
   ]
  }
 ],
 "metadata": {
  "kernelspec": {
   "display_name": "Python 3 (ipykernel)",
   "language": "python",
   "name": "python3"
  },
  "language_info": {
   "codemirror_mode": {
    "name": "ipython",
    "version": 3
   },
   "file_extension": ".py",
   "mimetype": "text/x-python",
   "name": "python",
   "nbconvert_exporter": "python",
   "pygments_lexer": "ipython3",
   "version": "3.10.8"
  }
 },
 "nbformat": 4,
 "nbformat_minor": 5
}
