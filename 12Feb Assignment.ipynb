{
 "cells": [
  {
   "cell_type": "markdown",
   "id": "32460d4d-737f-4b3a-9ea6-d58aa102c030",
   "metadata": {},
   "source": [
    "**Question 1: What is an Exception in python? Write the difference between Exceptions and syntax errors?**"
   ]
  },
  {
   "cell_type": "markdown",
   "id": "60115be7-dd5c-4fec-890f-99bd2cf91344",
   "metadata": {},
   "source": [
    "An exception is an event, which occurs during the execution of a program that disrupts the normal flow of the program's instructions. In general, when a Python script encounters a situation that it cannot cope with, it raises an exception. An exception is a Python object that represents an error.\n",
    "\n",
    "Exceptions and errors both are subclasses of Throwable class. The error indicates a problem that mainly occurs due to the lack of system resources and our application should not catch these types of problems. Some of the examples of errors are system crash error and out of memory error. Errors mostly occur at runtime that's they belong to an unchecked type. \n",
    "\n",
    "Exceptions are the problems which can occur at runtime and compile time. It mainly occurs in the code written by the developers.  Exceptions are divided into two categories such as checked exceptions and unchecked exceptions. \n",
    "\n",
    "Error :-\n",
    "\n",
    "Type of error Classified as an unchecked. It belongs to java.lang.error. It is irrecoverable. It can't be occur at compile time. \n",
    "\n",
    "e.g. OutOfMemoryError ,IOError \n",
    "\n",
    "\n",
    "Exception :- \n",
    "\n",
    "Exception is Classified as checked and unchecked. It belongs to java.lang.Exception. It is recoverable. It can occur at run time compile time both. \n",
    "\n",
    "e.g. NullPointerException , SqlException "
   ]
  },
  {
   "cell_type": "markdown",
   "id": "cecdb9d1-23ad-4025-a228-634aad5c75b1",
   "metadata": {},
   "source": [
    "**Question 2: what happens when an exception is not handled? Explain with an example.**"
   ]
  },
  {
   "cell_type": "markdown",
   "id": "8217ff1f-0996-4f4a-9dd1-4bf67e7769d9",
   "metadata": {},
   "source": [
    "If an exception occurs during execution of the try clause, the exception may be handled by an except clause. If the exception is not handled by an except clause, the exception is re-raised after the finally clause has been executed. \n",
    "\n",
    "An exception is an object that represents an error or an exceptional situation that has occurred :-\n",
    "* Could represent the run-time environment detecting an operation that's impossible to carry out\n",
    "* Could be created by a method in response to a special situation\n",
    "* exception objects are all children of class Throwable. This base class has two main child classes:\n",
    "* class Exception: base class for most exception types\n",
    "* class Error: class that represents things that are usually not recoverable (e.g. VirtualMachineError)\n"
   ]
  },
  {
   "cell_type": "markdown",
   "id": "23b38001-5a7b-4b4b-9c7a-b5da1722e080",
   "metadata": {},
   "source": [
    "**Question 3: Which Python statements are used to catch and handle exceptions? Explain with an example.**"
   ]
  },
  {
   "cell_type": "code",
   "execution_count": 4,
   "id": "5c312ee2-96c3-403c-a80f-40ccd8200743",
   "metadata": {},
   "outputs": [
    {
     "name": "stdout",
     "output_type": "stream",
     "text": [
      "[Errno 2] No such file or directory: 'file.log'\n"
     ]
    }
   ],
   "source": [
    "# The try and except block in Python is used to catch and handle exceptions. Python executes code following the try statement as a “normal” part of the program. \n",
    "# The code that follows the except statement is the program's response to any exceptions in the preceding try clause.\n",
    "\n",
    "\n",
    "try:\n",
    "    with open('file.log') as file:\n",
    "        read_data = file.read()\n",
    "except FileNotFoundError as fnf_error:\n",
    "    print(fnf_error)\n",
    "# In this case, if file.log does not exist, the output will be the following:\n",
    "# [Errno 2] No such file or directory: 'file.log'\n"
   ]
  },
  {
   "cell_type": "markdown",
   "id": "2812d968-660b-4fdb-ab32-6320d9153d5e",
   "metadata": {},
   "source": [
    "**Question 4: Explain with an example**\n",
    "1. Try and else\n",
    "2. finally\n",
    "3. raise"
   ]
  },
  {
   "cell_type": "code",
   "execution_count": 24,
   "id": "f953f0de-1fa1-40d4-a331-51e37046012d",
   "metadata": {},
   "outputs": [
    {
     "name": "stdout",
     "output_type": "stream",
     "text": [
      "\n",
      " try and else example:\n",
      "Hello\n",
      "Nothing went wrong\n",
      "\n",
      "\n",
      " finally example:\n",
      "Nothing went wrong\n",
      "The try...except block is finished\n",
      "\n",
      "\n",
      " raise example:\n"
     ]
    },
    {
     "ename": "Exception",
     "evalue": "Sorry, no numbers below zero",
     "output_type": "error",
     "traceback": [
      "\u001b[0;31m---------------------------------------------------------------------------\u001b[0m",
      "\u001b[0;31mException\u001b[0m                                 Traceback (most recent call last)",
      "Cell \u001b[0;32mIn[24], line 33\u001b[0m\n\u001b[1;32m     30\u001b[0m x \u001b[38;5;241m=\u001b[39m \u001b[38;5;241m-\u001b[39m\u001b[38;5;241m1\u001b[39m\n\u001b[1;32m     32\u001b[0m \u001b[38;5;28;01mif\u001b[39;00m x \u001b[38;5;241m<\u001b[39m \u001b[38;5;241m0\u001b[39m:\n\u001b[0;32m---> 33\u001b[0m     \u001b[38;5;28;01mraise\u001b[39;00m \u001b[38;5;167;01mException\u001b[39;00m(\u001b[38;5;124m\"\u001b[39m\u001b[38;5;124mSorry, no numbers below zero\u001b[39m\u001b[38;5;124m\"\u001b[39m)\n",
      "\u001b[0;31mException\u001b[0m: Sorry, no numbers below zero"
     ]
    }
   ],
   "source": [
    "print(\"\\n try and else example:\") \n",
    "# You can use the else keyword to define a block of code to be executed if no errors were raised\n",
    "try:\n",
    "    print(\"Hello\")\n",
    "except:\n",
    "    print(\"Something went wrong\")\n",
    "else:\n",
    "    print(\"Nothing went wrong\")\n",
    "\n",
    "    \n",
    "    \n",
    "print(\"\\n\\n finally example:\") \n",
    "# The finally keyword is used in try...except blocks. It defines a block of code to run when the try...except...else block is final.\n",
    "# The finally block will be executed no matter if the try block raises an error or not.\n",
    "# This can be useful to close objects and clean up resources.    \n",
    "try:\n",
    "    x > 3\n",
    "except:\n",
    "    print(\"Something went wrong\")\n",
    "else:\n",
    "    print(\"Nothing went wrong\")\n",
    "finally:\n",
    "    print(\"The try...except block is finished\")\n",
    "    \n",
    "\n",
    "    \n",
    "print(\"\\n\\n raise example:\")    \n",
    "# The raise keyword is used to raise an exception.\n",
    "# You can define what kind of error to raise, and the text to print to the user.    \n",
    "x = -1\n",
    "\n",
    "if x < 0:\n",
    "    raise Exception(\"Sorry, no numbers below zero\")"
   ]
  },
  {
   "cell_type": "markdown",
   "id": "02c18215-c079-4bee-96df-f7a0879d76fa",
   "metadata": {},
   "source": [
    "**Question 5: What are Custom Exceptions in python? Why do we need Custom Exceptions? Explain with an example.**"
   ]
  },
  {
   "cell_type": "code",
   "execution_count": 25,
   "id": "2869144f-41b5-4c77-9bc9-33ff3c8c1e9b",
   "metadata": {},
   "outputs": [
    {
     "name": "stdin",
     "output_type": "stream",
     "text": [
      "Enter a number:  40\n"
     ]
    },
    {
     "name": "stdout",
     "output_type": "stream",
     "text": [
      "Eligible to Vote\n"
     ]
    }
   ],
   "source": [
    "# # Like standard exception classes, custom exceptions are also classes. Hence, you can add functionality to the custom exception classes like: Adding attributes and properties. \n",
    "# # Adding methods e.g., log the exception, format the output, etc.\n",
    "\n",
    "# Following are few of the reasons to use custom exceptions: To catch and provide specific treatment to a subset of existing Java exceptions. '\n",
    "# Business logic exceptions: These are the exceptions related to business logic and workflow.\n",
    "\n",
    "# define Python user-defined exceptions\n",
    "class InvalidAgeException(Exception):\n",
    "    \"Raised when the input value is less than 18\"\n",
    "    pass\n",
    "\n",
    "# you need to guess this number\n",
    "number = 18\n",
    "\n",
    "try:\n",
    "    input_num = int(input(\"Enter a number: \"))\n",
    "    if input_num < number:\n",
    "        raise InvalidAgeException\n",
    "    else:\n",
    "        print(\"Eligible to Vote\")\n",
    "        \n",
    "except InvalidAgeException:\n",
    "    print(\"Exception occurred: Invalid Age\")\n"
   ]
  },
  {
   "cell_type": "markdown",
   "id": "dbfb9d12-ea05-453a-b81b-0d8999835668",
   "metadata": {},
   "source": [
    "**Question 6: Crete custom exception class. Use this class to handle an exception.**"
   ]
  },
  {
   "cell_type": "code",
   "execution_count": 23,
   "id": "b3c47438-3175-46ae-b535-0e3c28dc04d0",
   "metadata": {},
   "outputs": [
    {
     "name": "stdin",
     "output_type": "stream",
     "text": [
      "Enter a temperature in Fahrenheit: 100\n"
     ]
    },
    {
     "name": "stdout",
     "output_type": "stream",
     "text": [
      "100.0 Fahrenheit = 37.7778 Celsius\n"
     ]
    }
   ],
   "source": [
    "# To create a custom exception class, you define a class that inherits from the built-in Exception class or one of its subclasses such as ValueError class:\n",
    "\n",
    "# syntax:\n",
    "#     class CustomException(Exception):\n",
    "#     \"\"\" my custom exception class \"\"\"\n",
    "\n",
    "# Suppose you need to develop a program that converts a temperature from Fahrenheit to Celsius.\n",
    "# The minimum and maximum values of a temperature in Fahrenheit are 32 and 212. If users enter a value that is not in this range, you want to raise a custom exception e.g., FahrenheitError.\n",
    "class FahrenheitError(Exception):\n",
    "\n",
    "    min_f = 32\n",
    "    max_f = 212\n",
    "\n",
    "    def __init__(self, f, *args):\n",
    "        super().__init__(args)\n",
    "        self.f = f\n",
    "\n",
    "    def __str__(self):\n",
    "        return f'The {self.f} is not in a valid range {self.min_f, self.max_f}'\n",
    "\n",
    "\n",
    "def fahrenheit_to_celsius(f: float) -> float:\n",
    "    if f < FahrenheitError.min_f or f > FahrenheitError.max_f:\n",
    "        raise FahrenheitError(f)\n",
    "\n",
    "    return (f - 32) * 5 / 9\n",
    "\n",
    "\n",
    "if __name__ == '__main__':\n",
    "    f = input('Enter a temperature in Fahrenheit:')\n",
    "    try:\n",
    "        f = float(f)\n",
    "    except ValueError as ex:\n",
    "        print(ex)\n",
    "    else:\n",
    "        try:\n",
    "            c = fahrenheit_to_celsius(float(f))\n",
    "        except FahrenheitError as ex:\n",
    "            print(ex)\n",
    "        else:\n",
    "            print(f'{f} Fahrenheit = {c:.4f} Celsius')"
   ]
  }
 ],
 "metadata": {
  "kernelspec": {
   "display_name": "Python 3 (ipykernel)",
   "language": "python",
   "name": "python3"
  },
  "language_info": {
   "codemirror_mode": {
    "name": "ipython",
    "version": 3
   },
   "file_extension": ".py",
   "mimetype": "text/x-python",
   "name": "python",
   "nbconvert_exporter": "python",
   "pygments_lexer": "ipython3",
   "version": "3.10.8"
  }
 },
 "nbformat": 4,
 "nbformat_minor": 5
}
