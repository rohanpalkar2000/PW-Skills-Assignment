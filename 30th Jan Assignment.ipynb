{
 "cells": [
  {
   "cell_type": "raw",
   "id": "fdcfa010-8621-4a61-a070-46d61f241189",
   "metadata": {},
   "source": []
  },
  {
   "cell_type": "code",
   "execution_count": null,
   "id": "0d03a833-6d91-4e93-b30d-b439b9dbbc25",
   "metadata": {},
   "outputs": [],
   "source": [
    "#write a program accept percentage from user and display the grade\n",
    "\n",
    "percentage = float(input(\"Enter your percentage: \"))\n",
    "if percentage >= 90:\n",
    "    print(\"You have got A Grage\")\n",
    "elif percentage >= 80 and percentage < 90:\n",
    "    print(\"You have got B Grage\")  \n",
    "elif percentage >= 60 and percentage < 80:\n",
    "    print(\"You have got C Grage\")\n",
    "elif percentage < 60:\n",
    "    print(\"You have got D Grage\")                   "
   ]
  },
  {
   "cell_type": "code",
   "execution_count": 59,
   "id": "c132d12c-7410-4dc1-8186-9d297b53f9a8",
   "metadata": {},
   "outputs": [
    {
     "name": "stdin",
     "output_type": "stream",
     "text": [
      "Enter your Bike price:  85000\n"
     ]
    },
    {
     "name": "stdout",
     "output_type": "stream",
     "text": [
      "Road tax to be paid to you is 8500.0\n"
     ]
    }
   ],
   "source": [
    "#write a program to accept a cost price of bike and display the road tax to be paid.\n",
    "\n",
    "cost_price = float(input(\"Enter your Bike price: \"))\n",
    "if cost_price > 100000:\n",
    "    tax = 0.15\n",
    "elif cost_price > 50000 and cost_price <= 100000:\n",
    "    tax = 0.10\n",
    "elif cost_price <= 50000:\n",
    "    tax = 0.05\n",
    "road_tax = cost_price * tax\n",
    "print(\"Road tax to be paid to you is\",road_tax)"
   ]
  },
  {
   "cell_type": "code",
   "execution_count": 61,
   "id": "e2c452f0-6752-4dc0-b660-e9566b4e4a85",
   "metadata": {},
   "outputs": [
    {
     "name": "stdin",
     "output_type": "stream",
     "text": [
      "Enter a city Jaipur\n"
     ]
    },
    {
     "name": "stdout",
     "output_type": "stream",
     "text": [
      "Jal Mahal\n"
     ]
    }
   ],
   "source": [
    "#wrie a prgram to accept the city from user and display the monuments of that city.\n",
    "\n",
    "city = input(\"Enter a city\")\n",
    "\n",
    "if city == \"Delhi\":\n",
    "    print(\"Red Fort\")\n",
    "elif city == \"Agra\":\n",
    "    print(\"Taj Mahal\")\n",
    "elif city == \"Jaipur\":\n",
    "    print(\"Jal Mahal\")\n",
    "else:\n",
    "    print(\"Enter a valid city\")"
   ]
  },
  {
   "cell_type": "code",
   "execution_count": 62,
   "id": "834d96f7-474b-456f-9314-782f6f7e7a6f",
   "metadata": {},
   "outputs": [
    {
     "name": "stdin",
     "output_type": "stream",
     "text": [
      "Enter a number:  88\n"
     ]
    },
    {
     "name": "stdout",
     "output_type": "stream",
     "text": [
      "The number can be divided by 3 is 2 times before it is less than or equal to 10.\n"
     ]
    }
   ],
   "source": [
    "#check how many times a given number can be divided by 3 before it is less than or equal to 10.\n",
    "\n",
    "num = int(input(\"Enter a number: \"))\n",
    "#variable \n",
    "count = 0\n",
    "#while loop will run until it is less than or equal to 10\n",
    "while num > 10:\n",
    "    #check for divide by 3\n",
    "    num = num / 3\n",
    "    #increment count\n",
    "    count += 1\n",
    "print(\"The number can be divided by 3 is\", count, \"times before it is less than or equal to 10.\")"
   ]
  },
  {
   "cell_type": "code",
   "execution_count": 63,
   "id": "6287365f-f6a7-4f21-911f-751f60ef39b4",
   "metadata": {},
   "outputs": [
    {
     "name": "stdout",
     "output_type": "stream",
     "text": [
      "1\n",
      "2\n",
      "3\n",
      "4\n",
      "5\n",
      "6\n",
      "7\n"
     ]
    }
   ],
   "source": [
    "#why and when t use while loop in python give a details description\n",
    "\n",
    "#Python while loop is used to run a block code until a certain condition is met.Here, A while loop evaluates the condition. \n",
    "#If the condition evaluates to True , the code inside the while loop is executed.\n",
    "\n",
    "#Here is the syntax of while loop\n",
    "#while condition:\n",
    "    # Code to be executed\n",
    "    \n",
    "\n",
    "#They are used to repeat a sequence of statements an unknown number of times. \n",
    "#This type of loop runs while a given condition is True and it only stops when the condition becomes False .\n",
    "\n",
    "#example of while loop\n",
    "# Print the numbers from 1 to 10\n",
    "i = 1\n",
    "while i < 8:\n",
    "    print(i)\n",
    "    i += 1\n",
    "    \n",
    "    \n",
    "# The while loop is useful when you don't know in advance how many times\n",
    "# you need to loop, and you want to keep looping until a certain condition is met.\n",
    "# For example, you can use a while loop to read data from a file until the end of the file is reached,\n",
    "# or to keep asking the user for input until a valid response is given.\n"
   ]
  },
  {
   "cell_type": "code",
   "execution_count": 64,
   "id": "5be895e5-0103-444f-85d7-e0ba0c6519fe",
   "metadata": {},
   "outputs": [
    {
     "name": "stdout",
     "output_type": "stream",
     "text": [
      "\n",
      "----------------- pattern 1-----------------------------------\n",
      "\n",
      "1 \n",
      "1 2 \n",
      "1 2 3 \n",
      "1 2 3 4 \n",
      "1 2 3 4 5 \n",
      "\n",
      "-----------------pattern 2-----------------------------------\n",
      "\n",
      "0 1 2 3 \n",
      "0 2 4 6 \n",
      "0 3 6 9 \n",
      "0 4 8 12 \n",
      "\n",
      "-----------------pattern 3-----------------------------------\n",
      "\n",
      "1 * 1 = 1\n",
      "1 * 2 = 2\n",
      "1 * 3 = 3\n",
      "\n",
      "\n",
      "2 * 1 = 2\n",
      "2 * 2 = 4\n",
      "2 * 3 = 6\n",
      "\n",
      "\n",
      "3 * 1 = 3\n",
      "3 * 2 = 6\n",
      "3 * 3 = 9\n",
      "\n",
      "\n",
      "4 * 1 = 4\n",
      "4 * 2 = 8\n",
      "4 * 3 = 12\n",
      "\n",
      "\n",
      "5 * 1 = 5\n",
      "5 * 2 = 10\n",
      "5 * 3 = 15\n",
      "\n",
      "\n"
     ]
    }
   ],
   "source": [
    "##Use nested while loop to print 3 different pattern.\n",
    "\n",
    "print(\"\\n----------------- pattern 1-----------------------------------\\n\")\n",
    "i = 1\n",
    "while i <= 5:\n",
    "    j = 1\n",
    "    while j <= i:\n",
    "        print(j,end=\" \")\n",
    "        j = j + 1\n",
    "    print(\"\")\n",
    "    i = i + 1\n",
    "    \n",
    "print(\"\\n-----------------pattern 2-----------------------------------\\n\")\n",
    "\n",
    "i = 1\n",
    "while i <= 4 :\n",
    "    j = 0\n",
    "    while  j <= 3 :\n",
    "        print(i*j, end=\" \")\n",
    "        j += 1\n",
    "    print()\n",
    "    i += 1\n",
    "    \n",
    "print(\"\\n-----------------pattern 3-----------------------------------\\n\")\n",
    "\n",
    "i = 1\n",
    "while i <= 5:\n",
    "    j = 1\n",
    "    while j <= 3:\n",
    "        print(i, \"*\", j, '=', i * j)\n",
    "        j += 1\n",
    "    i += 1\n",
    "    print(\"\\n\")"
   ]
  },
  {
   "cell_type": "code",
   "execution_count": 65,
   "id": "c0783156-66c1-4a89-a111-d4f7fe15e785",
   "metadata": {},
   "outputs": [
    {
     "name": "stdout",
     "output_type": "stream",
     "text": [
      "10\n",
      "9\n",
      "8\n",
      "7\n",
      "6\n",
      "5\n",
      "4\n",
      "3\n",
      "2\n",
      "1\n"
     ]
    }
   ],
   "source": [
    "##reverse while loop to display number from 10 to 1\n",
    "\n",
    "i = 10\n",
    "while i > 0:\n",
    "    print(i)\n",
    "    i = i - 1"
   ]
  },
  {
   "cell_type": "code",
   "execution_count": 66,
   "id": "f9cbba17-e963-4501-b72b-0ebc90f331b2",
   "metadata": {},
   "outputs": [
    {
     "name": "stdout",
     "output_type": "stream",
     "text": [
      "10\n",
      "9\n",
      "8\n",
      "7\n",
      "6\n",
      "5\n",
      "4\n",
      "3\n",
      "2\n",
      "1\n"
     ]
    }
   ],
   "source": [
    "##reverse while loop to display number from 10 to 1\n",
    "\n",
    "i = 10\n",
    "while i > 0:\n",
    "    print(i)\n",
    "    i = i - 1"
   ]
  }
 ],
 "metadata": {
  "kernelspec": {
   "display_name": "Python 3 (ipykernel)",
   "language": "python",
   "name": "python3"
  },
  "language_info": {
   "codemirror_mode": {
    "name": "ipython",
    "version": 3
   },
   "file_extension": ".py",
   "mimetype": "text/x-python",
   "name": "python",
   "nbconvert_exporter": "python",
   "pygments_lexer": "ipython3",
   "version": "3.10.8"
  }
 },
 "nbformat": 4,
 "nbformat_minor": 5
}
