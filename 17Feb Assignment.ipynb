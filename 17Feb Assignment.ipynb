{
 "cells": [
  {
   "cell_type": "markdown",
   "id": "57458b00-71e5-4e6a-8d1d-8910215497f2",
   "metadata": {},
   "source": [
    "# Question 1: What is MongoDB? Explain non-relational databases in short. In which scenarios it is preferred to use MongoDB over SQL databases?"
   ]
  },
  {
   "cell_type": "markdown",
   "id": "03350a28-659e-47f8-b800-3929653a3349",
   "metadata": {},
   "source": [
    "MongoDB is a popular document-oriented NoSQL database that stores data in flexible, JSON-like documents. It is designed for high availability, scalability, and performance, and is commonly used for web, mobile, and IoT applications.\n",
    "\n",
    "Non-relational databases, also known as NoSQL databases, are database management systems that do not use the traditional relational database model that SQL databases use. Instead, NoSQL databases use different data models, such as document-oriented, key-value, column-family, or graph.\n",
    "\n",
    "NoSQL databases are preferred over SQL databases in scenarios where there is a need for high scalability, agility, and flexibility in handling large, unstructured or semi-structured data. This makes NoSQL databases a good choice for use cases such as web analytics, content management systems, real-time data processing, and IoT applications.\n",
    "\n",
    "MongoDB is preferred over SQL databases in scenarios where there is a need for handling large volumes of semi-structured or unstructured data with high availability, performance, and scalability requirements. It is commonly used for use cases such as e-commerce, content management, mobile applications, and real-time analytics.\n",
    "\n",
    "Some specific advantages of MongoDB over SQL databases include its ability to handle unstructured and semi-structured data, its flexible schema, its horizontal scalability, and its support for sharding and replication. Additionally, MongoDB's query language is more similar to modern programming languages, which makes it easier for developers to work with."
   ]
  },
  {
   "cell_type": "markdown",
   "id": "8a1d1e0e-ff5b-4770-8f5a-1ea07e5b1b14",
   "metadata": {},
   "source": [
    "# Question 2: State and Explain the features of MongoDB."
   ]
  },
  {
   "cell_type": "markdown",
   "id": "0a87ddec-d2d9-4cb7-ae8a-53dc08a00a6b",
   "metadata": {},
   "source": [
    "MongoDB is a popular NoSQL database that offers a range of features that make it a popular choice for developers and organizations looking for a scalable and flexible database solution. Some of the key features of MongoDB include:\n",
    "\n",
    "* Document-oriented data model: MongoDB stores data in flexible, JSON-like documents that can vary in structure, making it a good choice for handling semi-structured or unstructured data.\n",
    "* High availability and scalability: MongoDB offers high availability and scalability through features such as automatic sharding, replication, and load balancing.\n",
    "* Rich query language: MongoDB provides a powerful query language that supports a wide range of queries, including ad hoc queries, range queries, and full-text search.\n",
    "* Indexing: MongoDB provides a range of indexing options, including single-field, compound, and multi-key indexes.\n",
    "* Aggregation: MongoDB offers a flexible aggregation framework that allows developers to perform advanced data processing and analysis, such as grouping, sorting, and filtering.\n",
    "* GridFS: MongoDB offers GridFS, a file storage system that allows developers to store and retrieve large files, such as images and videos, as part of the database.\n",
    "* Transactions: MongoDB supports multi-document transactions, allowing developers to perform complex operations that span multiple documents.\n",
    "* Security: MongoDB offers a range of security features, such as access control, authentication, and encryption, to ensure the security and integrity of the data stored in the database.\n",
    "* Flexibility: MongoDB's flexible data model and schemaless design make it a good choice for rapidly evolving applications and dynamic environments\n",
    "* Overall, MongoDB's rich feature set and flexibility make it a popular choice for a wide range of use cases, from mobile and web applications to IoT and real-time analytics."
   ]
  },
  {
   "cell_type": "markdown",
   "id": "d5c225bc-4855-4a66-b4b2-f78cb9077b42",
   "metadata": {},
   "source": [
    "# Question 3: Write a code to connect MongoDB to Python. Also, create a database and a collection in MongoDB."
   ]
  },
  {
   "cell_type": "code",
   "execution_count": null,
   "id": "3edf7291-c600-40b9-874c-3c8c2ba6f816",
   "metadata": {},
   "outputs": [],
   "source": [
    "# Import the PyMongo library\n",
    "import pymongo\n",
    "\n",
    "# Connect to the MongoDB server\n",
    "client = pymongo.MongoClient(\"mongodb://localhost:27017/\")\n",
    "\n",
    "# Create a new database\n",
    "db = client[\"mydatabase\"]\n",
    "\n",
    "# Create a new collection in the database\n",
    "collection = db[\"mycollection\"]\n",
    "\n",
    "# Insert a new document into the collection\n",
    "document = {\"name\": \"Rohan\", \"age\": 23, \"city\": \"Mumbai\"}\n",
    "collection.insert_one(document)\n",
    "\n",
    "# Find a document in the collection\n",
    "query = {\"name\": \"Rohan\"}\n",
    "result = collection.find_one(query)\n",
    "print(result)"
   ]
  },
  {
   "cell_type": "markdown",
   "id": "125fbbca-158b-4159-a296-d5daa1d035dc",
   "metadata": {},
   "source": [
    "# Question 4: Using the database and the collection created in question number 3, write a code to insert one record,and insert many records. Use the find() and find_one() methods to print the inserted record."
   ]
  },
  {
   "cell_type": "code",
   "execution_count": null,
   "id": "d101c29e-8c36-41cd-80e8-7a228d292b16",
   "metadata": {},
   "outputs": [],
   "source": [
    "# Import the PyMongo library\n",
    "import pymongo\n",
    "\n",
    "# Connect to the MongoDB server\n",
    "client = pymongo.MongoClient(\"mongodb://localhost:27017/\")\n",
    "\n",
    "# Create a reference to the \"mycollection\" collection in the \"mydatabase\" database\n",
    "db = client[\"mydatabase\"]\n",
    "collection = db[\"mycollection\"]\n",
    "\n",
    "# Insert one record into the collection\n",
    "record_one = {\"name\": \"Sam\", \"age\": 27, \"city\": \"India\"}\n",
    "result_one = collection.insert_one(record_one)\n",
    "print(\"Inserted record ID:\", result_one.inserted_id)\n",
    "\n",
    "# Insert many records into the collection\n",
    "records_many = [\n",
    "    {\"name\": \"Rahul\", \"age\": 25, \"city\": \"New York\"},\n",
    "    {\"name\": \"Jenny\", \"age\": 29, \"city\": \"San Francisco\"},\n",
    "    {\"name\": \"Selvy\", \"age\": 39, \"city\": \"Boston\"}\n",
    "]\n",
    "result_many = collection.insert_many(records_many)\n",
    "print(\"Inserted records IDs:\", result_many.inserted_ids)\n",
    "\n",
    "# Find one record in the collection\n",
    "query = {\"name\": \"Rahul\"}\n",
    "result = collection.find_one(query)\n",
    "print(\"Found record:\", result)\n",
    "\n",
    "# Find all records in the collection\n",
    "results = collection.find()\n",
    "print(\"All records:\")\n",
    "for result in results:\n",
    "    print(result)"
   ]
  },
  {
   "cell_type": "markdown",
   "id": "b5241d69-5e55-4c35-b52a-1373de9e7707",
   "metadata": {},
   "source": [
    "# Question 5: Explain how you can use the find() method to query the MongoDB database. Write a simple code to demonstrate this."
   ]
  },
  {
   "cell_type": "code",
   "execution_count": null,
   "id": "abe5218b-d0b8-46b1-b4ce-27445cf95647",
   "metadata": {},
   "outputs": [],
   "source": [
    "# The find() method is used to query a MongoDB database for documents that match a specified set of criteria. This method returns a cursor object that can be used to iterate over the matching documents.\n",
    "# Here's an example code to demonstrate how to use the find() method to query a MongoDB database:\n",
    "\n",
    "\n",
    "# Import the PyMongo library\n",
    "import pymongo\n",
    "\n",
    "# Connect to the MongoDB server\n",
    "client = pymongo.MongoClient(\"mongodb://localhost:27017/\")\n",
    "\n",
    "# Create a reference to the \"mycollection\" collection in the \"mydatabase\" database\n",
    "db = client[\"mydatabase\"]\n",
    "collection = db[\"mycollection\"]\n",
    "\n",
    "# Find all documents in the collection\n",
    "results = collection.find()\n",
    "\n",
    "# Iterate over the results and print each document\n",
    "for result in results:\n",
    "    print(result)"
   ]
  },
  {
   "cell_type": "markdown",
   "id": "3604f993-f105-4d08-9e80-26f133921fd7",
   "metadata": {},
   "source": [
    "#  Question 6: Explain the sort() method. Give an example to demonstrate sorting in MongoDB."
   ]
  },
  {
   "cell_type": "code",
   "execution_count": null,
   "id": "56120758-3093-4da9-81dd-4b18a6d8ce38",
   "metadata": {},
   "outputs": [],
   "source": [
    "# The sort() method is used to sort the results of a MongoDB query in either ascending or descending order. This method takes one or more key-value pairs that specify the fields to sort by and the order in which to sort them.\n",
    "# Here's an example to demonstrate how to use the sort() method to sort the results of a MongoDB query:\n",
    "\n",
    "# Import the PyMongo library\n",
    "import pymongo\n",
    "\n",
    "# Connect to the MongoDB server\n",
    "client = pymongo.MongoClient(\"mongodb://localhost:27017/\")\n",
    "\n",
    "# Create a reference to the \"mycollection\" collection in the \"mydatabase\" database\n",
    "db = client[\"mydatabase\"]\n",
    "collection = db[\"mycollection\"]\n",
    "\n",
    "# Insert some sample documents into the collection\n",
    "collection.insert_many([\n",
    "    {\"name\": \"Rahul\", \"age\": 25},\n",
    "    {\"name\": \"Sam\", \"age\": 29},\n",
    "    {\"name\": \"Jenny\", \"age\": 39}\n",
    "])\n",
    "\n",
    "# Sort the documents in the collection by age in ascending order\n",
    "results = collection.find().sort(\"age\", pymongo.ASCENDING)\n",
    "\n",
    "# Print the sorted documents\n",
    "for result in results:\n",
    "    print(result)"
   ]
  },
  {
   "cell_type": "markdown",
   "id": "a965e0ff-7ac1-4375-8fc2-c02a038d4bd4",
   "metadata": {},
   "source": [
    "# Question 7: Explain why delete_one(), delete_many(), and drop() is used."
   ]
  },
  {
   "cell_type": "code",
   "execution_count": null,
   "id": "8d39ee6b-14ee-4782-acb5-50f84b302db3",
   "metadata": {},
   "outputs": [],
   "source": []
  }
 ],
 "metadata": {
  "kernelspec": {
   "display_name": "Python 3 (ipykernel)",
   "language": "python",
   "name": "python3"
  },
  "language_info": {
   "codemirror_mode": {
    "name": "ipython",
    "version": 3
   },
   "file_extension": ".py",
   "mimetype": "text/x-python",
   "name": "python",
   "nbconvert_exporter": "python",
   "pygments_lexer": "ipython3",
   "version": "3.10.8"
  }
 },
 "nbformat": 4,
 "nbformat_minor": 5
}
