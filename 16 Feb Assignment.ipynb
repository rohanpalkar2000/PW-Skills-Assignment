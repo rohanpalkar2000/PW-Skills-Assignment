{
 "cells": [
  {
   "cell_type": "markdown",
   "id": "2671330f-6d48-403f-bb92-f2fc5666acc7",
   "metadata": {},
   "source": [
    "# Question: 1 What is a database? Differentiate between SQL and NoSQL databases."
   ]
  },
  {
   "cell_type": "markdown",
   "id": "2f180402-2cdb-4598-aad6-c846333a4972",
   "metadata": {},
   "source": [
    "A database is information that is set up for easy access, management and updating. Computer databases typically store aggregations of data records or files that contain information, such as sales transactions, customer data, financials and product information.\n",
    "Databases are used for storing, maintaining and accessing any sort of data. They collect information on people, places or things. That information is gathered in one place so that it can be observed and analyzed. Databases can be thought of as an organized collection of information.\n",
    "\n",
    "### Difference of SQL and NoSQL :-\n",
    "\n",
    "**SQL**\n",
    "* RELATIONAL DATABASE MANAGEMENT SYSTEM (RDBMS)\n",
    "* These databases have fixed or static or predefined schema\n",
    "* These databases are not suited for hierarchical data storage.\n",
    "* These databases are best suited for complex queries\n",
    "* Vertically Scalable\n",
    "* Follows ACID property\n",
    "* Examples: MySQL, PostgreSQL, Oracle, MS-SQL Server, etc\n",
    "\n",
    "\n",
    "\n",
    "**NoSQL**\n",
    "* Non-relational or distributed database system.\n",
    "* They have dynamic schema\n",
    "* These databases are best suited for hierarchical data storage.\n",
    "* These databases are not so good for complex queries\n",
    "* Horizontally scalable\n",
    "* Follows CAP(consistency, availability, partition tolerance)\n",
    "* Examples: MongoDB, GraphQL, HBase, Neo4j, Cassandra, etc"
   ]
  },
  {
   "cell_type": "markdown",
   "id": "e397ec57-a5ea-45b9-bbb6-7fafc3324f40",
   "metadata": {},
   "source": [
    "# Question 2: What is DDL? Explain why CREATE, DROP, ALTER, and TRUNCATE are used with an example."
   ]
  },
  {
   "cell_type": "markdown",
   "id": "137b930f-3e5d-4ff2-bd99-e13e77ed6e38",
   "metadata": {},
   "source": [
    "Data Definition Language (DDL) is a subset of SQL. It is a language for describing data and its relationships in a database.\n",
    "You can generate DDL in a script for database objects to:\n",
    "Keep a snapshot of the database structure\n",
    "Set up a test system where the database acts like the production system but contains no data\n",
    "Produce templates for new objects that you can create based on existing ones.\n",
    "\n",
    "#### CREATE :-\n",
    "The CREATE TABLE command creates a new table in the database.\n",
    "\n",
    "Example :\n",
    "\n",
    "CREATE TABLE emp (\n",
    "    empID int,\n",
    "    LastName varchar(255),\n",
    "    FirstName varchar(255),\n",
    "    Address varchar(255),\n",
    "    City varchar(255)\n",
    ");\n",
    "\n",
    "#### ALTER :-\n",
    "The ALTER TABLE command adds, deletes, or modifies columns in a table.\n",
    "The ALTER TABLE command also adds and deletes various constraints in a table.\n",
    "\n",
    "Example :\n",
    "\n",
    "ALTER TABLE Customers\n",
    "ADD Email varchar(255);\n",
    "\n",
    "#### DROP :-\n",
    "The DROP TABLE command deletes a table in the database.\n",
    "\n",
    "Example :\n",
    "\n",
    "DROP TABLE Shippers;\n",
    "\n",
    "\n",
    "#### TRUNCATE :-\n",
    "The TRUNCATE TABLE command deletes the data inside a table, but not the table itself.\n",
    "\n",
    "Example :\n",
    "\n",
    "TRUNCATE TABLE Categories;"
   ]
  },
  {
   "cell_type": "markdown",
   "id": "01cda086-a221-4f43-808b-3089cfe124fd",
   "metadata": {},
   "source": [
    "# Question 3: What is DML? Explain INSERT, UPDATE, and DELETE with an example."
   ]
  },
  {
   "cell_type": "markdown",
   "id": "f0cbaea5-46f7-472b-b47c-b733afbc0aa1",
   "metadata": {},
   "source": [
    "The data manipulation language statements are used to retrieve, add, delete, and modify the data that is stored in the objects of database. The keywords or statements that are associated with the data manipulation language are: SELECT INSERT, UPDATE and DELETE. These are the primary statements of data manipulation language (DML) and are used widely.\n",
    "\n",
    "* The INSERT statement is used to insert a new row in the database that is adding data to a table.\n",
    "* The UPDATE statement is used to update the data or row in the table.\n",
    "* The DELETE statement is used to delete a row from the table in the database.\n",
    "\n",
    "### INSERT Command\n",
    "To add data to a table the INSERT command is used. \n",
    "\n",
    "INSERT into EMPLOYEE (\"Emp_Name\",\"Emp_No\",\"Dept_No\",\"Dept_Name\")values(\"John\",\"A001\",10,\"Management\");\n",
    "INSERT into EMPLOYEE (\"Emp_Name\",\"Emp_No\",\"Dept_No\",\"Dept_Name\")values(\"Sameer\",\"A002\",11,\"Account);\n",
    "\n",
    "\n",
    "\n",
    "### UPDATE Command\n",
    "To update a table or row or column in the table we use the update command. \n",
    "Update table-name set column-name = value where condition;\n",
    "\n",
    "Update employee set EMP_NO = A001 where DEPT_NO = 10;\n",
    "\n",
    "\n",
    "\n",
    "### DELETE Command\n",
    "To delete a table row or some data from a table in the database the delete command is used.\n",
    "DELETE from table-name;\n",
    "This query will delete all the records from the table named as Employee. This change will be permanent and cannot be recovered.\n",
    "\n",
    "DELETE from employee where DEPT_NO = 11;\n"
   ]
  },
  {
   "cell_type": "markdown",
   "id": "31d5c9cb-99db-4792-b946-2602bf00833e",
   "metadata": {},
   "source": [
    "# Question 4: What is DQL? Explain SELECT with an example."
   ]
  },
  {
   "cell_type": "markdown",
   "id": "a27a582a-67ad-4843-9ebc-80928edad0f8",
   "metadata": {},
   "source": [
    "DQL statements are used for performing queries on the data within schema objects. The purpose of the DQL Command is to get some schema relation based on the query passed to it. We can define DQL as follows it is a component of SQL statement that allows getting data from the database and imposing order upon it. It includes the SELECT statement. This command allows getting the data out of the database to perform operations with it. When a SELECT is fired against a table or tables the result is compiled into a further temporary table, which is displayed or perhaps received by the program i.e. a front-end.\n",
    "\n",
    "### List of DQL: \n",
    "\n",
    "* SELECT: It is used to retrieve data from the database.\n",
    "\n",
    "#### Syntax :\n",
    "SELECT expressions    \n",
    "FROM TABLES    \n",
    "WHERE conditions;  \n",
    "\n",
    "#### Example :\n",
    "SELECT emp_name  \n",
    "FROM employee  \n",
    "WHERE age > 20;  "
   ]
  },
  {
   "cell_type": "markdown",
   "id": "d74739bc-83b4-4b2e-b9d1-c86734dc6c3f",
   "metadata": {},
   "source": [
    "# Question 5: Explain Primary Key and Foreign Key."
   ]
  },
  {
   "cell_type": "markdown",
   "id": "7425371a-8b40-4524-a627-c151f2436c9b",
   "metadata": {},
   "source": [
    "### Primary key:\n",
    "The primary key is a unique or non-null key that uniquely identifies every record in a table or relation. Each database needs a unique identifier for every row of a table, and the primary key plays a vital role in identifying rows in the table uniquely. The primary key column can't store duplicate values. It is also called a minimal super key; therefore, we cannot specify more than one primary key in any relationship.\n",
    "\n",
    "For example, we have a table named customer with attributes such as ID, Name, and City. Only the ID column can never contain duplicate and NULL values because each customer has a unique identification number. This feature helps to identify each record in the database uniquely. Hence, we can make the ID attribute a primary key.\n",
    "\n",
    "### Foreign key:\n",
    "The foreign key is a group of one or more columns in a database to uniquely identify another database record in some other table to maintain the referential integrity. It is also known as the referencing key that establishes a relationship between two different tables in a database. A foreign key always matches the primary key column in another table. It means a foreign key column in one table refers to the primary key column of another table. A foreign key is beneficial in relational database normalization, especially when we need to access records from other tables.\n",
    "A foreign key creates a parent-child relationship with the tables where the parent table holds the initial column values, and the child table references the parent column values. We can achieve this relationship only when the foreign key constraint is found on the child table.\n",
    "\n",
    "For example, we have a table named contact with attributes such as ID, Customer_Id, Customer_Info, and Type. Here we can make the Customer_Id column a foreign key.\n",
    "\n",
    "#### If we want to delete the referential data that removes records from both tables, we can define the foreign key in the contact table as below:\n",
    "\n",
    "FOREIGN KEY (Customer_Id) REFERENCES customer(ID)     \n",
    "ON DELETE CASCADE     \n",
    "ON UPDATE CASCADE  "
   ]
  },
  {
   "cell_type": "markdown",
   "id": "92cbae3c-26b2-4b3a-b4ad-fc26b9cc38ce",
   "metadata": {},
   "source": [
    "# Question 6: Write a python code to connect MySQL to python. Explain the cursor() and execute() method."
   ]
  },
  {
   "cell_type": "markdown",
   "id": "1d6714ce-cb05-4d66-bd1e-a783d334a8bb",
   "metadata": {},
   "source": [
    "import mysql.connector\n",
    "\n",
    "#Creating connection object\n",
    "mydb = mysql.connector.connect(\n",
    "\thost = \"localhost\",\n",
    "\tuser = \"yourusername\",\n",
    "\tpassword = \"your_password\"\n",
    ")\n",
    "\n",
    "#Printing the connection object\n",
    "print(mydb)\n",
    "\n",
    "* cursor()\n",
    "The cursor object can be defined as an abstraction specified in the Python DB-API 2.0. It facilitates us to have multiple separate working environments through the same connection to the database. We can create the cursor object by calling the 'cursor' function of the connection object. The cursor object is an important aspect of executing queries to the databases.\n",
    "\n",
    "* Syntax:\n",
    "<my_cur>  = conn.cursor()  \n",
    "\n",
    "\n",
    "* execute()\n",
    "This method is used to execute SQL DDL statements, it returns a boolean value specifying weather the ResultSet object can be retrieved."
   ]
  },
  {
   "cell_type": "markdown",
   "id": "b95b0fbe-e128-414e-845e-7fbabe2eba7a",
   "metadata": {},
   "source": [
    "# Question 7: Give the order of execution of SQL clauses in an SQL query."
   ]
  },
  {
   "cell_type": "markdown",
   "id": "4dbe8fa3-174c-4250-a784-0d4add9e11fa",
   "metadata": {},
   "source": [
    "* FROM - Tables are joined to get the base data.\n",
    "* WHERE\t- The base data is filtered.\n",
    "* GROUP BY\t- The filtered base data is grouped.\n",
    "* HAVING - The grouped base data is filtered.\n",
    "* SELECT - The final data is returned.\n",
    "* ORDER BY - The final data is sorted.\n",
    "* LIMIT - The returned data is limited to row count."
   ]
  }
 ],
 "metadata": {
  "kernelspec": {
   "display_name": "Python 3 (ipykernel)",
   "language": "python",
   "name": "python3"
  },
  "language_info": {
   "codemirror_mode": {
    "name": "ipython",
    "version": 3
   },
   "file_extension": ".py",
   "mimetype": "text/x-python",
   "name": "python",
   "nbconvert_exporter": "python",
   "pygments_lexer": "ipython3",
   "version": "3.10.8"
  }
 },
 "nbformat": 4,
 "nbformat_minor": 5
}
