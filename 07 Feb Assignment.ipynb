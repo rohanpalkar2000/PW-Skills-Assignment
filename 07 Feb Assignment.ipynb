{
 "cells": [
  {
   "cell_type": "markdown",
   "id": "a8e18f4e-d8a3-4d31-89e2-d64c6f4338c5",
   "metadata": {},
   "source": [
    "Question 1: You are writing code for a company. The requirement of the company is that you create a python\n",
    "function that will check whether the password entered by the user is correct or not. The function should\n",
    "take the password as input and return the string “Valid Password” if the entered password follows the\n",
    "below-given password guidelines else it should return “Invalid Password”.\n",
    "\n",
    "Note: \n",
    "\n",
    "1. The Password should contain at least two uppercase letters and at least two lowercase letters.\n",
    "\n",
    "2. The Password should contain at least a number and three special characters.\n",
    "\n",
    "3. The length of the password should be 10 characters long."
   ]
  },
  {
   "cell_type": "code",
   "execution_count": 9,
   "id": "bd5cb392-fad5-42fc-ad9a-6bed41e23b8c",
   "metadata": {},
   "outputs": [
    {
     "name": "stdout",
     "output_type": "stream",
     "text": [
      "Valid Password\n"
     ]
    }
   ],
   "source": [
    "#password check program\n",
    "l, u, p, d = 0, 0, 0, 0\n",
    "s = \"$ThisIsSecret$123@\"\n",
    "uppercaseletter=\"ABCDEFGHIJKLMNOPQRSTUVWXYZ\"\n",
    "lowercaseletter=\"abcdefghijklmnopqrstuvwxyz\"\n",
    "specialchar=\"$@_\"\n",
    "digits=\"0123456789\"\n",
    "if (len(s) >= 8):\n",
    "\tfor i in s:\n",
    "\n",
    "\t\t# lowercase alphabets\n",
    "\t\tif (i in lowercaseletter):\n",
    "\t\t\tl+=1\t\t\n",
    "\n",
    "\t\t#uppercase alphabets\n",
    "\t\tif (i in uppercaseletter):\n",
    "\t\t\tu+=1\t\t\n",
    "\n",
    "\t\t# digits\n",
    "\t\tif (i in digits):\n",
    "\t\t\td+=1\t\t\n",
    "\n",
    "\t\t# special characters\n",
    "\t\tif(i in specialchar):\n",
    "\t\t\tp+=1\t\n",
    "if (l>=1 and u>=1 and p>=1 and d>=1 and l+p+u+d==len(s)):\n",
    "\tprint(\"Valid Password\")\n",
    "else:\n",
    "\tprint(\"Invalid Password\")\n"
   ]
  },
  {
   "cell_type": "markdown",
   "id": "788d9362-9c06-45d5-9609-e8b63e18d6c5",
   "metadata": {},
   "source": [
    "Question 2: Solve the below-given questions using at least one of the following:\n",
    "1. Lambda function\n",
    "2. Filter function\n",
    "3. Map function\n",
    "4. List Comprehension\n",
    "\n",
    "Check if the string starts with a particular letter.\n",
    "\n",
    "Check if the string is numeric.\n",
    "\n",
    "Sort a list of tuples having fruit names and their quantity.\n",
    "[(\"mango\",99),(\"orange\",80), (\"grapes\", 1000)]\n",
    "\n",
    "Find the squares of numbers from 1 to 10\n",
    "\n",
    "Find the cube root of numbers from 1 to 10\n",
    "\n",
    "Check if a given number is even\n",
    "\n",
    "Filter odd numbers from the given list.\n",
    "[1,2,3,4,5,6,7,8,9,10]\n",
    "\n",
    "Sort a list of integers into positive and negative integers lists.\n",
    "[1,2,3,4,5,6,-1,-2,-3,-4,-5,0]"
   ]
  },
  {
   "cell_type": "code",
   "execution_count": 10,
   "id": "0847a71a-116e-4f08-bc3c-c1a140cf8470",
   "metadata": {},
   "outputs": [
    {
     "data": {
      "text/plain": [
       "True"
      ]
     },
     "execution_count": 10,
     "metadata": {},
     "output_type": "execute_result"
    }
   ],
   "source": [
    "#Check if the string starts with a particular letter\n",
    "def check_string_start(string, start_letter):\n",
    "    return True if string[0] == start_letter else False\n",
    "\n",
    "# Using Lambda function\n",
    "check_string_start_lambda = lambda string, start_letter: True if string[0] == start_letter else False\n",
    "check_string_start(\"Hello\", \"H\")"
   ]
  },
  {
   "cell_type": "code",
   "execution_count": 11,
   "id": "747fba24-a651-4421-86ac-963f73dc66ac",
   "metadata": {},
   "outputs": [
    {
     "data": {
      "text/plain": [
       "True"
      ]
     },
     "execution_count": 11,
     "metadata": {},
     "output_type": "execute_result"
    }
   ],
   "source": [
    "#Check if the string is numericY\n",
    "def check_string_numeric(string):\n",
    "    return True if string.isdigit() else False\n",
    "\n",
    "# Using Lambda function\n",
    "check_string_numeric_lambda = lambda string: True if string.isdigit() else False\n",
    "check_string_numeric(\"123\")"
   ]
  },
  {
   "cell_type": "code",
   "execution_count": 19,
   "id": "ddcf2b3f-73a1-4096-947b-76e79bb127ea",
   "metadata": {},
   "outputs": [
    {
     "name": "stdout",
     "output_type": "stream",
     "text": [
      "[('orange', 80), ('mango', 99), ('grapes', 1000)]\n"
     ]
    }
   ],
   "source": [
    "#Sort a list of tuples having fruit names and their quantity\n",
    "fruits = [(\"mango\",99),(\"orange\",80), (\"grapes\", 1000)]\n",
    "\n",
    "# Using Lambda function\n",
    "sorted_fruits = sorted(fruits, key=lambda x: x[1])\n",
    "print(sorted_fruits)"
   ]
  },
  {
   "cell_type": "code",
   "execution_count": 23,
   "id": "f0f134d0-f98b-417f-b934-f37a67abfb14",
   "metadata": {},
   "outputs": [
    {
     "name": "stdout",
     "output_type": "stream",
     "text": [
      "Original list of integers:\n",
      "[1, 2, 3, 4, 5, 6, 7, 8, 9, 10]\n",
      "\n",
      "Square every number of the said list:\n",
      "[1, 4, 9, 16, 25, 36, 49, 64, 81, 100]\n"
     ]
    }
   ],
   "source": [
    "# Find the squares of numbers from 1 to 10\n",
    "\n",
    "nums = [1, 2, 3, 4, 5, 6, 7, 8, 9, 10]\n",
    "print(\"Original list of integers:\")\n",
    "print(nums)\n",
    "# Using Lambda function\n",
    "print(\"\\nSquare every number of the said list:\")\n",
    "square_nums = list(map(lambda x: x ** 2, nums))\n",
    "print(square_nums)"
   ]
  },
  {
   "cell_type": "code",
   "execution_count": 24,
   "id": "c6b7b11e-ecdb-4678-9aaf-c75026e71b35",
   "metadata": {},
   "outputs": [
    {
     "name": "stdout",
     "output_type": "stream",
     "text": [
      "[1.0, 1.2599210498948732, 1.4422495703074083, 1.5874010519681994, 1.7099759466766968, 1.8171205928321397, 1.912931182772389, 2.0, 2.080083823051904, 2.154434690031884]\n"
     ]
    }
   ],
   "source": [
    "#Find the cube root of numbers from 1 to 10\n",
    "# Using Map function\n",
    "cuberoot_numbers = list(map(lambda x: x**(1/3), range(1, 11)))\n",
    "print(cuberoot_numbers)"
   ]
  },
  {
   "cell_type": "code",
   "execution_count": 25,
   "id": "64155889-cd4d-4067-9288-3de4d26486ed",
   "metadata": {},
   "outputs": [
    {
     "name": "stdout",
     "output_type": "stream",
     "text": [
      "True\n"
     ]
    }
   ],
   "source": [
    "#Check if a given number is even\n",
    "# Using Lambda function\n",
    "is_even_lambda = lambda number: True if number % 2 == 0 else False\n",
    "print(is_even_lambda(6))"
   ]
  },
  {
   "cell_type": "code",
   "execution_count": 26,
   "id": "445b1dea-4f57-4d2a-b769-cc2833b24200",
   "metadata": {},
   "outputs": [
    {
     "name": "stdout",
     "output_type": "stream",
     "text": [
      "[1, 3, 5, 7, 9]\n"
     ]
    }
   ],
   "source": [
    "#Filter odd numbers from the given list\n",
    "numbers = [1,2,3,4,5,6,7,8,9,10]\n",
    "\n",
    "# Using Filter function\n",
    "odd_numbers = list(filter(lambda x: x % 2 != 0, numbers))\n",
    "print(odd_numbers)"
   ]
  },
  {
   "cell_type": "code",
   "execution_count": 27,
   "id": "82985e0d-4ce5-49f9-b8d6-66cb4231969c",
   "metadata": {},
   "outputs": [
    {
     "name": "stdout",
     "output_type": "stream",
     "text": [
      "[1, 2, 3, 4, 5, 6]\n",
      "[-1, -2, -3, -4, -5]\n"
     ]
    }
   ],
   "source": [
    "#Sort a list of integers into positive and negative integers lists\n",
    "numbers = [1,2,3,4,5,6,-1,-2,-3,-4,-5,0]\n",
    "\n",
    "# Using List Comprehension\n",
    "positive_numbers = [x for x in numbers if x > 0]\n",
    "negative_numbers = [x for x in numbers if x < 0]\n",
    "print(positive_numbers)\n",
    "print(negative_numbers)"
   ]
  }
 ],
 "metadata": {
  "kernelspec": {
   "display_name": "Python 3 (ipykernel)",
   "language": "python",
   "name": "python3"
  },
  "language_info": {
   "codemirror_mode": {
    "name": "ipython",
    "version": 3
   },
   "file_extension": ".py",
   "mimetype": "text/x-python",
   "name": "python",
   "nbconvert_exporter": "python",
   "pygments_lexer": "ipython3",
   "version": "3.10.8"
  }
 },
 "nbformat": 4,
 "nbformat_minor": 5
}
