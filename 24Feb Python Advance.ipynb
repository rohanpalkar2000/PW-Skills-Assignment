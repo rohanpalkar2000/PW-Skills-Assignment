{
 "cells": [
  {
   "cell_type": "markdown",
   "id": "73a0230a-0986-4c32-9a2d-4700f91abd41",
   "metadata": {},
   "source": [
    "**Q1) List any five functions of the pandas library with execution.**"
   ]
  },
  {
   "cell_type": "markdown",
   "id": "557be9ee-ba05-4e9e-b2a1-737e190c1334",
   "metadata": {},
   "source": [
    "1. read_csv(): This function is used to read a CSV file into a DataFrame."
   ]
  },
  {
   "cell_type": "code",
   "execution_count": 4,
   "id": "cc08f090-1aad-4a78-bb3f-b5cd7909c01b",
   "metadata": {},
   "outputs": [],
   "source": [
    "import pandas as pd"
   ]
  },
  {
   "cell_type": "code",
   "execution_count": 7,
   "id": "9ff8e596-9e96-428b-ab1e-cdc92d711fa2",
   "metadata": {},
   "outputs": [
    {
     "data": {
      "text/html": [
       "<div>\n",
       "<style scoped>\n",
       "    .dataframe tbody tr th:only-of-type {\n",
       "        vertical-align: middle;\n",
       "    }\n",
       "\n",
       "    .dataframe tbody tr th {\n",
       "        vertical-align: top;\n",
       "    }\n",
       "\n",
       "    .dataframe thead th {\n",
       "        text-align: right;\n",
       "    }\n",
       "</style>\n",
       "<table border=\"1\" class=\"dataframe\">\n",
       "  <thead>\n",
       "    <tr style=\"text-align: right;\">\n",
       "      <th></th>\n",
       "      <th>0</th>\n",
       "      <th>1</th>\n",
       "      <th>2</th>\n",
       "      <th>3</th>\n",
       "      <th>4</th>\n",
       "    </tr>\n",
       "  </thead>\n",
       "  <tbody>\n",
       "    <tr>\n",
       "      <th>0</th>\n",
       "      <td>7</td>\n",
       "      <td>9</td>\n",
       "      <td>3</td>\n",
       "      <td>5</td>\n",
       "      <td>9</td>\n",
       "    </tr>\n",
       "    <tr>\n",
       "      <th>1</th>\n",
       "      <td>9</td>\n",
       "      <td>3</td>\n",
       "      <td>4</td>\n",
       "      <td>5</td>\n",
       "      <td>7</td>\n",
       "    </tr>\n",
       "    <tr>\n",
       "      <th>2</th>\n",
       "      <td>3</td>\n",
       "      <td>4</td>\n",
       "      <td>7</td>\n",
       "      <td>8</td>\n",
       "      <td>2</td>\n",
       "    </tr>\n",
       "  </tbody>\n",
       "</table>\n",
       "</div>"
      ],
      "text/plain": [
       "   0  1  2  3  4\n",
       "0  7  9  3  5  9\n",
       "1  9  3  4  5  7\n",
       "2  3  4  7  8  2"
      ]
     },
     "execution_count": 7,
     "metadata": {},
     "output_type": "execute_result"
    }
   ],
   "source": [
    "data = [[7,9,3,5,9],[9,3,4,5,7],[3,4,7,8,2]]\n",
    "df = pd.DataFrame(data)\n",
    "df"
   ]
  },
  {
   "cell_type": "markdown",
   "id": "e542113a-5717-4e9f-8256-0e72a5edf225",
   "metadata": {},
   "source": [
    "2. mean() : used to get mean all numeric values column"
   ]
  },
  {
   "cell_type": "code",
   "execution_count": 8,
   "id": "a6015798-a076-4513-a329-522004ba09a9",
   "metadata": {},
   "outputs": [
    {
     "data": {
      "text/plain": [
       "0    6.333333\n",
       "1    5.333333\n",
       "2    4.666667\n",
       "3    6.000000\n",
       "4    6.000000\n",
       "dtype: float64"
      ]
     },
     "execution_count": 8,
     "metadata": {},
     "output_type": "execute_result"
    }
   ],
   "source": [
    "df.mean()"
   ]
  },
  {
   "cell_type": "markdown",
   "id": "ddfae1fc-9e00-4ac1-b058-38eab55e9d3c",
   "metadata": {},
   "source": [
    "3. describe(): This function generates descriptive statistics that summarize the central tendency, dispersion, and shape of a dataset’s distribution, excluding NaN values."
   ]
  },
  {
   "cell_type": "code",
   "execution_count": 11,
   "id": "79eea539-fa4c-4e52-84db-435ad965f89d",
   "metadata": {},
   "outputs": [
    {
     "data": {
      "text/html": [
       "<div>\n",
       "<style scoped>\n",
       "    .dataframe tbody tr th:only-of-type {\n",
       "        vertical-align: middle;\n",
       "    }\n",
       "\n",
       "    .dataframe tbody tr th {\n",
       "        vertical-align: top;\n",
       "    }\n",
       "\n",
       "    .dataframe thead th {\n",
       "        text-align: right;\n",
       "    }\n",
       "</style>\n",
       "<table border=\"1\" class=\"dataframe\">\n",
       "  <thead>\n",
       "    <tr style=\"text-align: right;\">\n",
       "      <th></th>\n",
       "      <th>0</th>\n",
       "      <th>1</th>\n",
       "      <th>2</th>\n",
       "      <th>3</th>\n",
       "      <th>4</th>\n",
       "    </tr>\n",
       "  </thead>\n",
       "  <tbody>\n",
       "    <tr>\n",
       "      <th>count</th>\n",
       "      <td>3.000000</td>\n",
       "      <td>3.000000</td>\n",
       "      <td>3.000000</td>\n",
       "      <td>3.000000</td>\n",
       "      <td>3.000000</td>\n",
       "    </tr>\n",
       "    <tr>\n",
       "      <th>mean</th>\n",
       "      <td>6.333333</td>\n",
       "      <td>5.333333</td>\n",
       "      <td>4.666667</td>\n",
       "      <td>6.000000</td>\n",
       "      <td>6.000000</td>\n",
       "    </tr>\n",
       "    <tr>\n",
       "      <th>std</th>\n",
       "      <td>3.055050</td>\n",
       "      <td>3.214550</td>\n",
       "      <td>2.081666</td>\n",
       "      <td>1.732051</td>\n",
       "      <td>3.605551</td>\n",
       "    </tr>\n",
       "    <tr>\n",
       "      <th>min</th>\n",
       "      <td>3.000000</td>\n",
       "      <td>3.000000</td>\n",
       "      <td>3.000000</td>\n",
       "      <td>5.000000</td>\n",
       "      <td>2.000000</td>\n",
       "    </tr>\n",
       "    <tr>\n",
       "      <th>25%</th>\n",
       "      <td>5.000000</td>\n",
       "      <td>3.500000</td>\n",
       "      <td>3.500000</td>\n",
       "      <td>5.000000</td>\n",
       "      <td>4.500000</td>\n",
       "    </tr>\n",
       "    <tr>\n",
       "      <th>50%</th>\n",
       "      <td>7.000000</td>\n",
       "      <td>4.000000</td>\n",
       "      <td>4.000000</td>\n",
       "      <td>5.000000</td>\n",
       "      <td>7.000000</td>\n",
       "    </tr>\n",
       "    <tr>\n",
       "      <th>75%</th>\n",
       "      <td>8.000000</td>\n",
       "      <td>6.500000</td>\n",
       "      <td>5.500000</td>\n",
       "      <td>6.500000</td>\n",
       "      <td>8.000000</td>\n",
       "    </tr>\n",
       "    <tr>\n",
       "      <th>max</th>\n",
       "      <td>9.000000</td>\n",
       "      <td>9.000000</td>\n",
       "      <td>7.000000</td>\n",
       "      <td>8.000000</td>\n",
       "      <td>9.000000</td>\n",
       "    </tr>\n",
       "  </tbody>\n",
       "</table>\n",
       "</div>"
      ],
      "text/plain": [
       "              0         1         2         3         4\n",
       "count  3.000000  3.000000  3.000000  3.000000  3.000000\n",
       "mean   6.333333  5.333333  4.666667  6.000000  6.000000\n",
       "std    3.055050  3.214550  2.081666  1.732051  3.605551\n",
       "min    3.000000  3.000000  3.000000  5.000000  2.000000\n",
       "25%    5.000000  3.500000  3.500000  5.000000  4.500000\n",
       "50%    7.000000  4.000000  4.000000  5.000000  7.000000\n",
       "75%    8.000000  6.500000  5.500000  6.500000  8.000000\n",
       "max    9.000000  9.000000  7.000000  8.000000  9.000000"
      ]
     },
     "execution_count": 11,
     "metadata": {},
     "output_type": "execute_result"
    }
   ],
   "source": [
    "df.describe()"
   ]
  },
  {
   "cell_type": "markdown",
   "id": "9184010f-8bcc-42a0-9356-7ec9848859d2",
   "metadata": {},
   "source": [
    "4. pd.Series(): create a pandas series"
   ]
  },
  {
   "cell_type": "code",
   "execution_count": 12,
   "id": "dd229a23-b8a7-4677-8f74-5789b5b18dc3",
   "metadata": {},
   "outputs": [
    {
     "data": {
      "text/plain": [
       "pandas.core.series.Series"
      ]
     },
     "execution_count": 12,
     "metadata": {},
     "output_type": "execute_result"
    }
   ],
   "source": [
    "df = pd.Series([4,5,6,7,8,9])\n",
    "type(df)"
   ]
  },
  {
   "cell_type": "markdown",
   "id": "c88929b7-d695-461f-999f-3eff337e767a",
   "metadata": {},
   "source": [
    "5. df.sum() used to sum all numeric data columns"
   ]
  },
  {
   "cell_type": "code",
   "execution_count": 13,
   "id": "e6cf53c3-7fe4-4658-ad84-8400ff604603",
   "metadata": {},
   "outputs": [
    {
     "data": {
      "text/plain": [
       "39"
      ]
     },
     "execution_count": 13,
     "metadata": {},
     "output_type": "execute_result"
    }
   ],
   "source": [
    "df.sum()"
   ]
  },
  {
   "cell_type": "markdown",
   "id": "02ba4264-426b-4b06-93c6-174c77008af1",
   "metadata": {},
   "source": [
    "**Q2) Given a Pandas DataFrame df with columns 'A', 'B', and 'C', write a Python function to re-index the\n",
    "DataFrame with a new index that starts from 1 and increments by 2 for each row.**"
   ]
  },
  {
   "cell_type": "code",
   "execution_count": 34,
   "id": "a1b56548-6543-4d60-a05c-0d6a34f18d7e",
   "metadata": {},
   "outputs": [
    {
     "name": "stdout",
     "output_type": "stream",
     "text": [
      "Original DataFrame:\n",
      "    A   B   C\n",
      "1  10  40  70\n",
      "3  20  50  80\n",
      "5  30  60  90\n",
      "\n",
      "Re-indexed DataFrame:\n"
     ]
    },
    {
     "data": {
      "text/html": [
       "<div>\n",
       "<style scoped>\n",
       "    .dataframe tbody tr th:only-of-type {\n",
       "        vertical-align: middle;\n",
       "    }\n",
       "\n",
       "    .dataframe tbody tr th {\n",
       "        vertical-align: top;\n",
       "    }\n",
       "\n",
       "    .dataframe thead th {\n",
       "        text-align: right;\n",
       "    }\n",
       "</style>\n",
       "<table border=\"1\" class=\"dataframe\">\n",
       "  <thead>\n",
       "    <tr style=\"text-align: right;\">\n",
       "      <th></th>\n",
       "      <th>A</th>\n",
       "      <th>B</th>\n",
       "      <th>C</th>\n",
       "    </tr>\n",
       "  </thead>\n",
       "  <tbody>\n",
       "    <tr>\n",
       "      <th>1</th>\n",
       "      <td>10</td>\n",
       "      <td>40</td>\n",
       "      <td>70</td>\n",
       "    </tr>\n",
       "    <tr>\n",
       "      <th>3</th>\n",
       "      <td>20</td>\n",
       "      <td>50</td>\n",
       "      <td>80</td>\n",
       "    </tr>\n",
       "  </tbody>\n",
       "</table>\n",
       "</div>"
      ],
      "text/plain": [
       "    A   B   C\n",
       "1  10  40  70\n",
       "3  20  50  80"
      ]
     },
     "execution_count": 34,
     "metadata": {},
     "output_type": "execute_result"
    }
   ],
   "source": [
    "import pandas as pd\n",
    "\n",
    "data = {'A': [10, 20, 30], 'B': [40, 50, 60], 'C': [70, 80, 90]}\n",
    "print(\"Original DataFrame:\")\n",
    "print(df)\n",
    "\n",
    "print(\"\\nRe-indexed DataFrame:\")\n",
    "df.reindex([1,3])\n"
   ]
  },
  {
   "cell_type": "markdown",
   "id": "1ecef5ac-84d2-404d-b431-aaab9c1895d9",
   "metadata": {},
   "source": [
    "**Q3) You have a Pandas DataFrame df with a column named 'Values'. Write a Python function that\n",
    "iterates over the DataFrame and calculates the sum of the first three values in the 'Values' column. The\n",
    "function should print the sum to the console.\n",
    "For example, if the 'Values' column of df contains the values [10, 20, 30, 40, 50], your function should\n",
    "calculate and print the sum of the first three values, which is 60.**"
   ]
  },
  {
   "cell_type": "code",
   "execution_count": 36,
   "id": "b8cb8ff1-7b4b-4848-9b70-7b86b8aa128d",
   "metadata": {},
   "outputs": [
    {
     "name": "stdout",
     "output_type": "stream",
     "text": [
      "The sum of the first three values is: 60\n"
     ]
    }
   ],
   "source": [
    "import pandas as pd\n",
    "\n",
    "def sum_first_three_values(df):\n",
    "    if 'Values' not in df.columns:\n",
    "        print(\"The 'Values' column does not exist in the DataFrame.\")\n",
    "        return\n",
    "\n",
    "    first_three_values = df['Values'].head(3)\n",
    "\n",
    "    # Calculate the sum of the first three values\n",
    "    total_sum = first_three_values.sum()\n",
    "    print(\"The sum of the first three values is:\", total_sum)\n",
    "\n",
    "data = {'Values': [10, 20, 30, 40, 50]}\n",
    "df = pd.DataFrame(data)\n",
    "sum_first_three_values(df)\n"
   ]
  },
  {
   "cell_type": "markdown",
   "id": "dd4a9a98-3937-476f-b2ba-8878e51631be",
   "metadata": {},
   "source": [
    "Q4) Given a Pandas DataFrame df with a column 'Text', write a Python function to create a new column\n",
    "'Word_Count' that contains the number of words in each row of the 'Text' column."
   ]
  },
  {
   "cell_type": "code",
   "execution_count": 42,
   "id": "6bde44cb-8d23-473a-a56d-4219aa4c3f68",
   "metadata": {},
   "outputs": [
    {
     "name": "stdout",
     "output_type": "stream",
     "text": [
      "Original DataFrame:\n",
      "                        Text\n",
      "0                Hello world\n",
      "1            Pandas is great\n",
      "2  Data analysis with Python\n",
      "\n",
      "DataFrame with 'Word_Count' column:\n",
      "                        Text  Word_Count\n",
      "0                Hello world           2\n",
      "1            Pandas is great           3\n",
      "2  Data analysis with Python           4\n"
     ]
    }
   ],
   "source": [
    "# Example usage:\n",
    "data = {'Text': ['Hello world', 'Pandas is great', 'Data analysis with Python']}\n",
    "df = pd.DataFrame(data)\n",
    "print(\"Original DataFrame:\")\n",
    "print(df)\n",
    "\n",
    "df['Word_Count'] = df['Text'].apply(lambda x: len(str(x).split()))\n",
    "print(\"\\nDataFrame with 'Word_Count' column:\")\n",
    "print(df)"
   ]
  },
  {
   "cell_type": "markdown",
   "id": "caeb2647-5d85-45b6-9184-a240475de4e3",
   "metadata": {},
   "source": [
    "Q5) How are DataFrame.size() and DataFrame.shape() different?"
   ]
  },
  {
   "cell_type": "markdown",
   "id": "a8ce2268-47a4-481c-933e-ed55d01e20e2",
   "metadata": {},
   "source": [
    "**1) DataFrame.size**\n",
    "\n",
    "Purpose: Returns the number of elements in the DataFrame.\n",
    "\n",
    "Output: A single integer representing the total number of elements (rows * columns)"
   ]
  },
  {
   "cell_type": "code",
   "execution_count": 46,
   "id": "c9af5c49-910e-4bf6-b2fc-87fd5fc8b5b7",
   "metadata": {},
   "outputs": [
    {
     "name": "stdout",
     "output_type": "stream",
     "text": [
      "6\n"
     ]
    }
   ],
   "source": [
    "import pandas as pd\n",
    "\n",
    "data = {'A': [1, 2, 3], 'B': [4, 5, 6]}\n",
    "df = pd.DataFrame(data)\n",
    "\n",
    "print(df.size)"
   ]
  },
  {
   "cell_type": "markdown",
   "id": "2fb687f9-6e45-455d-8c83-775e8b14db53",
   "metadata": {},
   "source": [
    "**2) DataFrame.shape**\n",
    "\n",
    "Purpose: Returns the dimensions of the DataFrame.\n",
    "\n",
    "Output: A tuple representing the number of rows and columns in the DataFrame (rows, columns)."
   ]
  },
  {
   "cell_type": "code",
   "execution_count": 47,
   "id": "a56455c4-451a-4669-8b49-e37f824ebae1",
   "metadata": {},
   "outputs": [
    {
     "name": "stdout",
     "output_type": "stream",
     "text": [
      "(3, 2)\n"
     ]
    }
   ],
   "source": [
    "import pandas as pd\n",
    "\n",
    "data = {'A': [1, 2, 3], 'B': [4, 5, 6]}\n",
    "df = pd.DataFrame(data)\n",
    "\n",
    "print(df.shape)"
   ]
  },
  {
   "cell_type": "markdown",
   "id": "5b3a3841-bcb2-4c65-b67a-80470024ee24",
   "metadata": {},
   "source": [
    "**Q6) Which function of pandas do we use to read an excel file?**"
   ]
  },
  {
   "cell_type": "code",
   "execution_count": null,
   "id": "4e91e2f7-bd2c-48c6-afba-d9c4de375fd8",
   "metadata": {},
   "outputs": [],
   "source": [
    "file_path = pd.read_excel(\"excel_file_path\")"
   ]
  },
  {
   "cell_type": "markdown",
   "id": "8ef5e889-0fa6-454b-a682-af5c505f8940",
   "metadata": {},
   "source": [
    "**Q7) You have a Pandas DataFrame df that contains a column named 'Email' that contains email\n",
    "addresses in the format 'username@domain.com'. Write a Python function that creates a new column\n",
    "'Username' in df that contains only the username part of each email address.\n",
    "The username is the part of the email address that appears before the '@' symbol. For example, if the\n",
    "email address is 'john.doe@example.com', the 'Username' column should contain 'john.doe'. Your\n",
    "function should extract the username from each email address and store it in the new 'Username'\n",
    "column.**"
   ]
  },
  {
   "cell_type": "code",
   "execution_count": 73,
   "id": "a77b78e1-7213-435c-85ba-037e7d62da81",
   "metadata": {},
   "outputs": [
    {
     "name": "stdout",
     "output_type": "stream",
     "text": [
      "Original DataFrame:\n",
      "                    Email\n",
      "0    john.doe@example.com\n",
      "1  jane.smith@example.com\n",
      "2      foo.bar@domain.com\n",
      "\n",
      "\n",
      "                    Email    username\n",
      "0    john.doe@example.com    john.doe\n",
      "1  jane.smith@example.com  jane.smith\n",
      "2      foo.bar@domain.com     foo.bar\n"
     ]
    }
   ],
   "source": [
    "import pandas as pd\n",
    "\n",
    "def extract_usernames(df):\n",
    "    if 'Email' not in df.columns:\n",
    "        print(\"The 'Email' column does not exist in the DataFrame.\")\n",
    "        return df\n",
    "\n",
    "data = {'Email': ['john.doe@example.com', 'jane.smith@example.com', 'foo.bar@domain.com']}\n",
    "df = pd.DataFrame(data)\n",
    "print(\"Original DataFrame:\")\n",
    "print(df)\n",
    "\n",
    "print(\"\\n\")\n",
    "df[['username','company']] = df['Email'].str.split(\"@\",expand=True,)\n",
    "df.drop(df.columns[2], axis=1, inplace=True)\n",
    "print(df)\n"
   ]
  },
  {
   "cell_type": "markdown",
   "id": "f50cf412-4fc4-4458-ba97-9244acfbb2e0",
   "metadata": {},
   "source": [
    "**Q8) You have a Pandas DataFrame df with columns 'A', 'B', and 'C'. Write a Python function that selects\n",
    "all rows where the value in column 'A' is greater than 5 and the value in column 'B' is less than 10. The\n",
    "function should return a new DataFrame that contains only the selected rows.\n",
    "For example, if df contains the following values:**\n",
    "\n",
    "A B C\n",
    "\n",
    "0 3 5 1\n",
    "\n",
    "1 8 2 7\n",
    "\n",
    "2 6 9 4\n",
    "\n",
    "3 2 3 5\n",
    "\n",
    "4 9 1 2\n",
    "\n",
    "Your function should select the following rows: A B C\n",
    "\n",
    "1 8 2 7\n",
    "\n",
    "4 9 1 2\n",
    "\n",
    "The function should return a new DataFrame that contains only the selected rows."
   ]
  },
  {
   "cell_type": "code",
   "execution_count": 74,
   "id": "02e55535-249f-4f80-9654-111f8f12eda9",
   "metadata": {},
   "outputs": [
    {
     "name": "stdout",
     "output_type": "stream",
     "text": [
      "Original DataFrame:\n",
      "   A  B  C\n",
      "0  3  5  1\n",
      "1  8  2  7\n",
      "2  6  9  4\n",
      "3  2  3  5\n",
      "4  9  1  2\n",
      "\n",
      "Selected DataFrame:\n",
      "   A  B  C\n",
      "1  8  2  7\n",
      "2  6  9  4\n",
      "4  9  1  2\n"
     ]
    }
   ],
   "source": [
    "import pandas as pd\n",
    "\n",
    "def select_rows(df):\n",
    "    # Select rows where the value in column 'A' is greater than 5 and the value in column 'B' is less than 10\n",
    "    selected_rows = df[(df['A'] > 5) & (df['B'] < 10)]\n",
    "    \n",
    "    return selected_rows\n",
    "\n",
    "data = {\n",
    "    'A': [3, 8, 6, 2, 9],\n",
    "    'B': [5, 2, 9, 3, 1],\n",
    "    'C': [1, 7, 4, 5, 2]\n",
    "}\n",
    "df = pd.DataFrame(data)\n",
    "print(\"Original DataFrame:\")\n",
    "print(df)\n",
    "\n",
    "selected_df = select_rows(df)\n",
    "print(\"\\nSelected DataFrame:\")\n",
    "print(selected_df)\n"
   ]
  },
  {
   "cell_type": "markdown",
   "id": "3cf70ae2-0bce-494e-a82a-a8ed1f82367b",
   "metadata": {},
   "source": [
    "**Q9) Given a Pandas DataFrame df with a column 'Values', write a Python function to calculate the mean,\n",
    "median, and standard deviation of the values in the 'Values' column.**"
   ]
  },
  {
   "cell_type": "code",
   "execution_count": 76,
   "id": "2b497699-25ba-4a30-a9a3-7fc405f2cd73",
   "metadata": {},
   "outputs": [
    {
     "name": "stdout",
     "output_type": "stream",
     "text": [
      "Original DataFrame:\n",
      "   Values\n",
      "0      10\n",
      "1      20\n",
      "2      30\n",
      "3      40\n",
      "4      50\n",
      "\n",
      "Statistics:\n",
      "Mean: 30.0\n",
      "Median: 30.0\n",
      "Standard Deviation: 15.811388300841896\n"
     ]
    }
   ],
   "source": [
    "import pandas as pd\n",
    "\n",
    "def calculate_statistics(df):\n",
    "    if 'Values' not in df.columns:\n",
    "        print(\"The 'Values' column does not exist in the DataFrame.\")\n",
    "        return None\n",
    "\n",
    "    # Calculate mean, median, and standard deviation\n",
    "    mean_value = df['Values'].mean()\n",
    "    median_value = df['Values'].median()\n",
    "    std_dev_value = df['Values'].std()\n",
    "\n",
    "    return mean_value, median_value, std_dev_value\n",
    "\n",
    "data = {'Values': [10, 20, 30, 40, 50]}\n",
    "df = pd.DataFrame(data)\n",
    "print(\"Original DataFrame:\")\n",
    "print(df)\n",
    "\n",
    "mean, median, std_dev = calculate_statistics(df)\n",
    "print(\"\\nStatistics:\")\n",
    "print(f\"Mean: {mean}\")\n",
    "print(f\"Median: {median}\")\n",
    "print(f\"Standard Deviation: {std_dev}\")\n"
   ]
  },
  {
   "cell_type": "markdown",
   "id": "dbad800a-f0ec-40f3-8c6e-699db24db950",
   "metadata": {},
   "source": [
    "**Q10) Given a Pandas DataFrame df with a column 'Sales' and a column 'Date', write a Python function to\n",
    "create a new column 'MovingAverage' that contains the moving average of the sales for the past 7 days\n",
    "for each row in the DataFrame. The moving average should be calculated using a window of size 7 and\n",
    "should include the current day.**"
   ]
  },
  {
   "cell_type": "code",
   "execution_count": 101,
   "id": "bc53804e-7a3b-4a70-8663-c17357b5478d",
   "metadata": {},
   "outputs": [
    {
     "name": "stdout",
     "output_type": "stream",
     "text": [
      "Original DataFrame:\n",
      "        Date  Sales\n",
      "0 2024-01-01    100\n",
      "1 2024-01-02    120\n",
      "2 2024-01-03     80\n",
      "3 2024-01-04    110\n",
      "4 2024-01-05     90\n",
      "5 2024-01-06    130\n",
      "6 2024-01-07     95\n",
      "7 2024-01-08    115\n",
      "8 2024-01-09    105\n",
      "9 2024-01-10    125\n",
      "\n",
      "DataFrame with Moving Average:\n",
      "\n",
      "        Date  Sales  MovingAverage\n",
      "0 2024-01-01    100     100.000000\n",
      "1 2024-01-02    120     110.000000\n",
      "2 2024-01-03     80     100.000000\n",
      "3 2024-01-04    110     102.500000\n",
      "4 2024-01-05     90     100.000000\n",
      "5 2024-01-06    130     105.000000\n",
      "6 2024-01-07     95     103.571429\n",
      "7 2024-01-08    115     105.714286\n",
      "8 2024-01-09    105     103.571429\n",
      "9 2024-01-10    125     110.000000\n"
     ]
    }
   ],
   "source": [
    "import pandas as pd\n",
    "\n",
    "def calculate_moving_average(df):\n",
    "    if 'Sales' not in df.columns or 'Date' not in df.columns:\n",
    "        print(\"Required columns 'Sales' or 'Date' do not exist in the DataFrame.\")\n",
    "        return df\n",
    "    \n",
    "    df['Date'] = pd.to_datetime(df['Date'])\n",
    "\n",
    "    # Sort DataFrame by 'Date' in case it's not sorted\n",
    "    df = df.sort_values(by='Date').reset_index(drop=True)\n",
    "\n",
    "    # Calculate moving average using a window of size 7\n",
    "    df['MovingAverage'] = df['Sales'].rolling(window=7, min_periods=1).mean()\n",
    "\n",
    "    return df\n",
    "\n",
    "data = {\n",
    "    'Date': pd.date_range(start='2024-01-01', periods=10),\n",
    "    'Sales': [100, 120, 80, 110, 90, 130, 95, 115, 105, 125]\n",
    "}\n",
    "df = pd.DataFrame(data)\n",
    "print(\"Original DataFrame:\")\n",
    "print(df)\n",
    "\n",
    "df = calculate_moving_average(df)\n",
    "print(\"\\nDataFrame with Moving Average:\\n\")\n",
    "print(df)\n"
   ]
  },
  {
   "cell_type": "markdown",
   "id": "89cf8054-9632-4c33-8782-e4888b5b7260",
   "metadata": {},
   "source": [
    "Q11) You have a Pandas DataFrame df with a column 'Date'. Write a Python function that creates a new column 'Weekday' in the DataFrame. The 'Weekday' column should contain the weekday name (e.g. Monday, Tuesday) corresponding to each date in the 'Date' column.\n",
    "For example, if df contains the following values:\n",
    "\n",
    "Date\n",
    "0 2023-01-01\n",
    "1 2023-01-02\n",
    "2 2023-01-03\n",
    "3 2023-01-04\n",
    "4 2023-01-05\n",
    "Your function should create the following DataFrame:\n",
    "\n",
    "Date Weekday\n",
    "0 2023-01-01 Sunday\n",
    "1 2023-01-02 Monday\n",
    "2 2023-01-03 Tuesday\n",
    "3 2023-01-04 Wednesday\n",
    "4 2023-01-05 Thursday\n",
    "The function should return the modified DataFrame."
   ]
  },
  {
   "cell_type": "code",
   "execution_count": 105,
   "id": "26c2132e-7519-41ae-946b-c9bfc120d9f3",
   "metadata": {},
   "outputs": [
    {
     "name": "stdout",
     "output_type": "stream",
     "text": [
      "Original DataFrame:\n",
      "         Date\n",
      "0  2023-01-01\n",
      "1  2023-01-02\n",
      "2  2023-01-03\n",
      "3  2023-01-04\n",
      "4  2023-01-05\n",
      "\n",
      "DataFrame with 'Weekday' column:\n",
      "        Date    Weekday\n",
      "0 2023-01-01     Sunday\n",
      "1 2023-01-02     Monday\n",
      "2 2023-01-03    Tuesday\n",
      "3 2023-01-04  Wednesday\n",
      "4 2023-01-05   Thursday\n"
     ]
    }
   ],
   "source": [
    "import pandas as pd\n",
    "\n",
    "def add_weekday_column(df):\n",
    "    if 'Date' not in df.columns:\n",
    "        print(\"The 'Date' column does not exist in the DataFrame.\")\n",
    "        return df\n",
    "    \n",
    "    # Convert 'Date' column to datetime if it's not already\n",
    "    df['Date'] = pd.to_datetime(df['Date'])\n",
    "    \n",
    "    # Add a new column 'Weekday' containing the weekday name\n",
    "    df['Weekday'] = df['Date'].dt.day_name()\n",
    "\n",
    "    return df\n",
    "\n",
    "data = {'Date': ['2023-01-01', '2023-01-02', '2023-01-03', '2023-01-04', '2023-01-05']}\n",
    "df = pd.DataFrame(data)\n",
    "print(\"Original DataFrame:\")\n",
    "print(df)\n",
    "\n",
    "df = add_weekday_column(df)\n",
    "print(\"\\nDataFrame with 'Weekday' column:\")\n",
    "print(df)\n"
   ]
  },
  {
   "cell_type": "markdown",
   "id": "4c46d176-5e56-4da1-b394-ff3ec4646cc1",
   "metadata": {},
   "source": [
    "**Q12) Given a Pandas DataFrame df with a column 'Date' that contains timestamps, write a Python\n",
    "function to select all rows where the date is between '2023-01-01' and '2023-01-31'.**"
   ]
  },
  {
   "cell_type": "code",
   "execution_count": 106,
   "id": "6584f9d8-7f30-4651-b785-fc3f6ac6d5f6",
   "metadata": {},
   "outputs": [
    {
     "name": "stdout",
     "output_type": "stream",
     "text": [
      "Original DataFrame:\n",
      "         Date\n",
      "0  2023-01-01\n",
      "1  2023-01-15\n",
      "2  2023-01-31\n",
      "3  2023-02-05\n",
      "4  2023-02-28\n",
      "\n",
      "Selected DataFrame:\n",
      "        Date\n",
      "0 2023-01-01\n",
      "1 2023-01-15\n",
      "2 2023-01-31\n"
     ]
    }
   ],
   "source": [
    "import pandas as pd\n",
    "\n",
    "def select_rows_between_dates(df):\n",
    "    if 'Date' not in df.columns:\n",
    "        print(\"The 'Date' column does not exist in the DataFrame.\")\n",
    "        return df\n",
    "    \n",
    "    # Convert 'Date' column to datetime if it's not already\n",
    "    df['Date'] = pd.to_datetime(df['Date'])\n",
    "    \n",
    "    # Select rows where 'Date' is between '2023-01-01' and '2023-01-31'\n",
    "    start_date = '2023-01-01'\n",
    "    end_date = '2023-01-31'\n",
    "    selected_rows = df[(df['Date'] >= start_date) & (df['Date'] <= end_date)]\n",
    "    \n",
    "    return selected_rows\n",
    "\n",
    "# Example usage:\n",
    "data = {'Date': ['2023-01-01', '2023-01-15', '2023-01-31', '2023-02-05', '2023-02-28']}\n",
    "df = pd.DataFrame(data)\n",
    "print(\"Original DataFrame:\")\n",
    "print(df)\n",
    "\n",
    "selected_df = select_rows_between_dates(df)\n",
    "print(\"\\nSelected DataFrame:\")\n",
    "print(selected_df)\n"
   ]
  },
  {
   "cell_type": "markdown",
   "id": "f4207a15-95f6-49f6-bf72-a37ee9fb5647",
   "metadata": {},
   "source": [
    "**Q13) To use the basic functions of pandas, what is the first and foremost necessary library that needs to\n",
    "be imported?**"
   ]
  },
  {
   "cell_type": "code",
   "execution_count": 108,
   "id": "c2879698-bd81-4fc4-8083-7bcfad02cc9b",
   "metadata": {},
   "outputs": [],
   "source": [
    "# The first and foremost necessary library that needs to be imported to use the basic functions of Pandas is pandas itself. \n",
    "# In Python, you typically import Pandas using the import statement:\n",
    "import pandas as pd"
   ]
  },
  {
   "cell_type": "code",
   "execution_count": null,
   "id": "57793acb-aa9b-4835-81ac-d838fbb417a6",
   "metadata": {},
   "outputs": [],
   "source": []
  }
 ],
 "metadata": {
  "kernelspec": {
   "display_name": "Python 3 (ipykernel)",
   "language": "python",
   "name": "python3"
  },
  "language_info": {
   "codemirror_mode": {
    "name": "ipython",
    "version": 3
   },
   "file_extension": ".py",
   "mimetype": "text/x-python",
   "name": "python",
   "nbconvert_exporter": "python",
   "pygments_lexer": "ipython3",
   "version": "3.10.8"
  }
 },
 "nbformat": 4,
 "nbformat_minor": 5
}
