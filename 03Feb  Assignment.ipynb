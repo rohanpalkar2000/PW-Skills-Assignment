{
 "cells": [
  {
   "cell_type": "code",
   "execution_count": 11,
   "id": "4dfce6d7-8848-4773-b165-7d1b19f61e88",
   "metadata": {},
   "outputs": [
    {
     "name": "stdout",
     "output_type": "stream",
     "text": [
      "[1, 3, 5, 7, 9, 11, 13, 15, 17, 19, 21, 23]\n"
     ]
    }
   ],
   "source": [
    "# Question 1: Which keyword is used to create a function? Create a function to return a list of odd numbers in the range of 1 to 25.\n",
    "\n",
    "\n",
    "# list of odd numbers in the range of 1 to 25.\n",
    "def listOfOdd():\n",
    "    l1=[]\n",
    "    for i in range(1,25):\n",
    "        if i%2 != 0:\n",
    "            l1.append(i)\n",
    "    return l1\n",
    "print(listOfOdd())"
   ]
  },
  {
   "cell_type": "code",
   "execution_count": 24,
   "id": "986f0ca3-48e6-4b5f-abac-9263db23151b",
   "metadata": {},
   "outputs": [
    {
     "name": "stdout",
     "output_type": "stream",
     "text": [
      "Addition is:  3\n",
      "Addition is:  4.5\n",
      "Addition is:  18.6\n"
     ]
    }
   ],
   "source": [
    "# Question 2 : Why *args and **kwargs is used in some functions? Create a function each for *args and **kwargs to demonstrate their use.\n",
    "\n",
    "\n",
    "# Python has *args which allow us to pass the variable number of non keyword arguments to function.\n",
    "# In the function, we should use an asterisk * before the parameter name to pass variable length arguments.\n",
    "# The arguments are passed as a tuple and these passed arguments make tuple inside the function with same name as the parameter excluding asterisk *.\n",
    "def adder(*args):\n",
    "    add = 0\n",
    "    \n",
    "    for n in args:\n",
    "        add = add + n\n",
    "\n",
    "    print(\"Addition is: \",add)\n",
    "\n",
    "adder(1,2)\n",
    "adder(1.2,3,0.3)\n",
    "adder(4,5,3,6.6)"
   ]
  },
  {
   "cell_type": "code",
   "execution_count": 25,
   "id": "8e29739e-4d3a-4cf5-8e07-60d046446006",
   "metadata": {},
   "outputs": [
    {
     "name": "stdout",
     "output_type": "stream",
     "text": [
      "\n",
      "Data type of argument: <class 'dict'>\n",
      "Firstname is Rohan\n",
      "Lastname is Palkar\n",
      "Age is 22\n",
      "Location is Mumbai\n",
      "Course is Data Science Master Impact batch\n"
     ]
    }
   ],
   "source": [
    "def intro(**kwargs):\n",
    "    print(\"\\nData type of argument:\",type(kwargs))\n",
    "\n",
    "    for key, value in kwargs.items():\n",
    "        print(\"{} is {}\".format(key,value))\n",
    "\n",
    "intro(Firstname=\"Rohan\", Lastname=\"Palkar\", Age=22, Location=\"Mumbai\", Course=\"Data Science Master Impact batch\")"
   ]
  },
  {
   "cell_type": "code",
   "execution_count": 28,
   "id": "2878e5a9-2ae3-4a5c-bbe8-ce545f19027d",
   "metadata": {},
   "outputs": [
    {
     "name": "stdout",
     "output_type": "stream",
     "text": [
      "2\n",
      "4\n",
      "6\n",
      "8\n",
      "10\n"
     ]
    }
   ],
   "source": [
    "# Question: 3 What is an iterator in python? Name the method used to initialise the iterator object and the method used for iteration. \n",
    "# Use these methods to print the first five elements of the given list [2, 4, 6, 8, 10, 12, 14,16, 18, 20].\n",
    "\n",
    "\n",
    "# An iterator is an object that contains a countable number of values. \n",
    "# An iterator is an object that can be iterated upon, meaning that you can traverse through all the values.\n",
    "\n",
    "l=[2, 4, 6, 8, 10, 12, 14, 16, 18, 20]\n",
    "iterator=0\n",
    "for i in l:\n",
    "    if iteratorr<5:\n",
    "        print(i)\n",
    "        iter+=1"
   ]
  },
  {
   "cell_type": "code",
   "execution_count": 46,
   "id": "2e87feca-685b-46b6-952d-f26c8cfb5dc8",
   "metadata": {},
   "outputs": [
    {
     "name": "stdout",
     "output_type": "stream",
     "text": [
      "0\n",
      "1\n",
      "4\n",
      "9\n",
      "16\n"
     ]
    }
   ],
   "source": [
    "# Question 4: What is a generator function in python? Why yield keyword is used? Give an example of a generator function.\n",
    "\n",
    "\n",
    "# Generator functions are a special kind of function that return a lazy iterator called a generator iterator. \n",
    "# These are objects that you can loop over like a list. \n",
    "# However, unlike lists, lazy iterators do not store their contents in memory.\n",
    "\n",
    "# yield keyword is used to create a generator function. \n",
    "# A type of function that is memory efficient and can be used like an iterator object.\n",
    "\n",
    "# create the generator object\n",
    "squares_generator = (i * i for i in range(5))\n",
    "\n",
    "# generator and print the values\n",
    "for i in squares_generator:\n",
    "    print(i)"
   ]
  },
  {
   "cell_type": "code",
   "execution_count": 48,
   "id": "660db914-9e8b-43d7-b63c-cab3510cb35c",
   "metadata": {},
   "outputs": [
    {
     "name": "stdout",
     "output_type": "stream",
     "text": [
      "2\n",
      "3\n",
      "5\n",
      "7\n",
      "11\n",
      "13\n",
      "17\n",
      "19\n",
      "23\n",
      "29\n",
      "31\n",
      "37\n",
      "41\n",
      "43\n",
      "47\n",
      "53\n",
      "59\n",
      "61\n",
      "67\n",
      "71\n"
     ]
    }
   ],
   "source": [
    "# Question 5: Create a generator function for prime numbers less than 1000. Use the next() method to print the first 20 prime numbers.\n",
    "\n",
    "\n",
    "def primes():\n",
    "    yield 2\n",
    "    primes_list = [2]\n",
    "    for i in range(3, 1000):\n",
    "        is_prime = True\n",
    "        for prime in primes_list:\n",
    "            if i % prime == 0:\n",
    "                is_prime = False\n",
    "                break\n",
    "        if is_prime:\n",
    "            primes_list.append(i)\n",
    "            yield i\n",
    "\n",
    "prime_gen = primes()\n",
    "# the next() method to print the first 20 prime numbers.\n",
    "for i in range(20):\n",
    "    print(next(prime_gen))"
   ]
  },
  {
   "cell_type": "code",
   "execution_count": 51,
   "id": "0ace5cac-0ec7-4ee4-9a97-82895a37d494",
   "metadata": {},
   "outputs": [
    {
     "name": "stdin",
     "output_type": "stream",
     "text": [
      "Enter the count:  10\n"
     ]
    },
    {
     "name": "stdout",
     "output_type": "stream",
     "text": [
      "0\n",
      "1\n",
      "1\n",
      "2\n",
      "3\n",
      "5\n",
      "8\n",
      "13\n",
      "21\n",
      "34\n"
     ]
    }
   ],
   "source": [
    "# Question 6: Write a python program to print the first 10 Fibonacci numbers using a while loop.\n",
    "\n",
    "terms = int(input(\"Enter the count: \"))\n",
    "\n",
    "a,b = 0, 1\n",
    "i = 0\n",
    "\n",
    "if terms <= 0:\n",
    "    print(\"Invalid input\")\n",
    "elif terms == 1:\n",
    "    print(first)\n",
    "else:\n",
    "    while i < terms:\n",
    "        print(a)\n",
    "        next = a+b\n",
    "        a = b\n",
    "        b = next\n",
    "        i +=1"
   ]
  },
  {
   "cell_type": "code",
   "execution_count": 59,
   "id": "2e4d95bf-2f47-4273-8042-146ed676de58",
   "metadata": {},
   "outputs": [
    {
     "name": "stdout",
     "output_type": "stream",
     "text": [
      "['p', 'w', 's', 'k', 'i', 'l', 'l', 's']\n"
     ]
    }
   ],
   "source": [
    "# Question 7: Write a List Comprehension to iterate through the given string: ‘pwskills’.\n",
    "# Expected output: ['p', 'w', 's', 'k', 'i', 'l', 'l', 's']\n",
    "\n",
    "string = []\n",
    " \n",
    "# Traditional approach of iterating\n",
    "for character in 'pwskills':\n",
    "    string.append(character)\n",
    " \n",
    "# Display list\n",
    "print(string)"
   ]
  },
  {
   "cell_type": "code",
   "execution_count": 63,
   "id": "ca8a7cb2-aa80-4a68-9a63-2ec0a5c26409",
   "metadata": {},
   "outputs": [
    {
     "name": "stdin",
     "output_type": "stream",
     "text": [
      "Enter a number: 60\n"
     ]
    },
    {
     "name": "stdout",
     "output_type": "stream",
     "text": [
      "Not a palindrome!\n"
     ]
    }
   ],
   "source": [
    "# Question 8: Write a python program to check whether a given number is Palindrome or not using a while loop.\n",
    "\n",
    "\n",
    "num=int(input(\"Enter a number:\"))\n",
    "temp=num\n",
    "rev=0\n",
    "while(num>0):\n",
    "    dig=num%10\n",
    "    rev=rev*10+dig\n",
    "    num=num//10\n",
    "if(temp==rev):\n",
    "    print(\"The number is palindrome!\")\n",
    "else:\n",
    "    print(\"Not a palindrome!\")"
   ]
  },
  {
   "cell_type": "code",
   "execution_count": 67,
   "id": "c4ef4f2c-ef6e-4eea-9fc5-f2fc8df449e6",
   "metadata": {},
   "outputs": [
    {
     "name": "stdout",
     "output_type": "stream",
     "text": [
      "[1, 3, 5, 7, 9, 11, 13, 15, 17, 19, 21, 23, 25, 27, 29, 31, 33, 35, 37, 39, 41, 43, 45, 47, 49, 51, 53, 55, 57, 59, 61, 63, 65, 67, 69, 71, 73, 75, 77, 79, 81, 83, 85, 87, 89, 91, 93, 95, 97, 99]\n"
     ]
    }
   ],
   "source": [
    "# Question 9: Write a code to print odd numbers from 1 to 100 using list comprehension.\n",
    "\n",
    "odd_number = [num for num in range(1, 101) if num % 2 == 1 ]\n",
    "print(odd_number)"
   ]
  }
 ],
 "metadata": {
  "kernelspec": {
   "display_name": "Python 3 (ipykernel)",
   "language": "python",
   "name": "python3"
  },
  "language_info": {
   "codemirror_mode": {
    "name": "ipython",
    "version": 3
   },
   "file_extension": ".py",
   "mimetype": "text/x-python",
   "name": "python",
   "nbconvert_exporter": "python",
   "pygments_lexer": "ipython3",
   "version": "3.10.8"
  }
 },
 "nbformat": 4,
 "nbformat_minor": 5
}
