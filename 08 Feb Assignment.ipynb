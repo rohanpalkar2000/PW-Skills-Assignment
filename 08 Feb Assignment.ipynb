{
 "cells": [
  {
   "cell_type": "markdown",
   "id": "20d5bbeb-712c-4da5-8800-0a52b9a3c90b",
   "metadata": {},
   "source": [
    "**Question: 1 What is Abstraction in OOps? Explain with an example.**"
   ]
  },
  {
   "cell_type": "code",
   "execution_count": null,
   "id": "b8fabf58-de27-4c88-b13d-43384047647b",
   "metadata": {},
   "outputs": [],
   "source": [
    "# Abstraction in python is defined as a process of handling complexity by hiding unnecessary information from the user. \n",
    "# This is one of the core concepts of object-oriented programming (OOP) languages. That enables the user to implement even more complex logic on top of the provided abstraction without understanding or even thinking about all the hidden background/back-end complexity.\n",
    "\n",
    "# Example:\n",
    "\n",
    "from abc import ABC, abstractmethod   \n",
    "class Car(ABC):   \n",
    "    def mileage(self):   \n",
    "        pass  \n",
    "  \n",
    "class Tesla(Car):   \n",
    "    def mileage(self):   \n",
    "        print(\"The mileage is 30kmph\")   \n",
    "class Suzuki(Car):   \n",
    "    def mileage(self):   \n",
    "        print(\"The mileage is 25kmph \")  \n",
    "\n",
    "# Driver code   \n",
    "t= Tesla ()   \n",
    "t.mileage()   \n",
    "\n",
    "s = Suzuki()   \n",
    "s.mileage()   \n",
    "\n",
    "\n",
    "# In the above code, we have imported the abc module to create the abstract base class. We created the Car class that inherited the ABC class and defined an abstract method named mileage(). \n",
    "# We have then inherited the base class from the three different subclasses and implemented the abstract method differently. \n",
    "# We created the objects to call the abstract method."
   ]
  },
  {
   "cell_type": "markdown",
   "id": "ae544c03-a7e7-48c8-ba6b-4b4abd5aaf4e",
   "metadata": {},
   "source": [
    "**Question 2: Differentiate between Abstraction and Encapsulation. Explain with an example.**"
   ]
  },
  {
   "cell_type": "markdown",
   "id": "86915318-f075-410f-a3d9-9b3ee1a878f0",
   "metadata": {},
   "source": [
    "Abstraction and Encapsulation are related concepts in Object-Oriented Programming (OOP), but they are different in their nature and purpose.\n",
    "\n",
    "Abstraction is an OOP concept that focuses only on relevant data of an object. It hides the background details and emphasizes the essential data points for reducing the complexity and increase efficiency. \n",
    "It generally retains only information which is most relevant for that specific process. Abstraction method mainly focusses on the idea instead of actual functioning.\n",
    "\n",
    "Encapsulation is a method of making a complex system easier to handle for end users. The user need not worry about internal details and complexities of the system. Encapsulation is a process of wrapping the data and the code, that operate on the data into a single entity. \n",
    "You can assume it as a protective wrapper that stops random access of code defined outside that wrapper.\n",
    "\n",
    "For example, consider a bank account object in OOP. The abstraction of the bank account object could be represented by its properties such as account number and balance, and methods such as deposit and withdraw. The user of this bank account object does not need to know the internal workings of how the bank manages the account, such as how the deposit or withdraw methods update the balance.\n",
    "\n",
    "The encapsulation of the bank account object could be achieved by declaring the properties such as account number and balance as private, and providing the methods such as deposit and withdraw as public. This encapsulation ensures that the user can only access the account information through the provided methods and cannot directly access or modify the account number or balance properties.\n",
    "\n",
    "In summary, Abstraction focuses on hiding the implementation details, while Encapsulation focuses on binding the data and methods within a single unit and restricting the direct access to the data."
   ]
  },
  {
   "cell_type": "markdown",
   "id": "f5e31a66-8e51-451a-97b3-146664222690",
   "metadata": {},
   "source": [
    "**Question 3: What is abc module in python? Why is it used?**"
   ]
  },
  {
   "cell_type": "markdown",
   "id": "196c5860-2547-46a8-9a92-a6ff6d3402d4",
   "metadata": {},
   "source": [
    "A class is called an Abstract class if it contains one or more abstract methods. An abstract method is a method that is declared, but contains no implementation. Abstract classes may not be instantiated, and its abstract methods must be implemented by its subclasses.\n",
    "\n",
    "Abstract base classes provide a way to define interfaces when other techniques like hasattr() would be clumsy or subtly wrong (for example with magic methods). ABCs introduce virtual subclasses, which are classes that don’t inherit from a class but are still recognized by isinstance() and issubclass() functions. There are many built-in ABCs in Python. ABCs for Data structures like Iterator, Generator, Set, mapping etc. are defined in collections.abc module. The numbers module defines numeric tower which is a collection of base classes for numeric data types. The 'abc' module in Python library provides the infrastructure for defining custom abstract base classes.\n",
    "\n",
    "A Rectangle class now uses above Shape class as its parent and implementing the abstract area() method. Since it is a concrete class, it can be instantiated and imlemented area() method can be called."
   ]
  },
  {
   "cell_type": "markdown",
   "id": "b6dcfb50-f1be-46ff-9835-1ea778321171",
   "metadata": {},
   "source": [
    "**Question 4: How can we achieve data abstraction?**"
   ]
  },
  {
   "cell_type": "markdown",
   "id": "467695fc-df6c-48f7-83d3-787127ee30e7",
   "metadata": {},
   "source": [
    "Data Abstraction is a technique to hide the internal implementation details of an object and present only the relevant information to the outside world. There are several ways to achieve data abstraction in Object-Oriented Programming (OOP):\n",
    "\n",
    "Encapsulation: This is the process of binding data and the methods that operate on that data within a single unit or object. By encapsulating data within an object, you can restrict direct access to the data from outside the object and ensure data integrity and security.\n",
    "\n",
    "Access Modifiers: Access modifiers such as private, protected, and public can be used to control the accessibility of data members and methods within a class. By declaring data members as private, you can restrict direct access to the data from outside the object, thereby implementing data abstraction.\n",
    "\n",
    "Abstract Classes: Abstract classes are classes that cannot be instantiated and are meant to be subclassed. They provide a way to define an interface that must be implemented by its concrete subclasses. By defining abstract classes and methods, you can enforce a certain interface on the concrete implementations, thereby achieving data abstraction.\n",
    "\n",
    "Interfaces: Interfaces are similar to abstract classes in that they define a set of methods that must be implemented by any class that implements the interface. Interfaces can be used to achieve data abstraction by defining a common interface for a set of related classes.\n",
    "\n",
    "These techniques can be used in combination to achieve data abstraction in OOP and make the code more organized, efficient, and maintainable."
   ]
  },
  {
   "cell_type": "markdown",
   "id": "18603823-30a9-482b-8005-c47eec34f23d",
   "metadata": {},
   "source": [
    "**Question 5: Can we create an instance of an abstract class? Explain your answer.**"
   ]
  },
  {
   "cell_type": "markdown",
   "id": "51c97fe1-6948-40f6-a7b0-f018620419a5",
   "metadata": {},
   "source": [
    "An abstract class cannot be instantiated.we cannot create an instance of an abstract class. An abstract class is a class that is meant to be subclassed and cannot be instantiated directly.\n",
    "\n",
    "The purpose of an abstract class is to provide a common interface for a set of related classes. By defining an abstract class, you can enforce certain properties, methods, or behaviors that must be present in all concrete implementations of the class. However, an abstract class itself is not a complete implementation, and therefore cannot be instantiated.\n",
    "\n",
    "To use an abstract class, you must create a concrete implementation of the class by subclassing it and providing a concrete implementation for the abstract methods defined in the abstract class. Only then can you create instances of the concrete implementation and use them in your code.\n",
    "\n",
    "In summary, abstract classes are a blueprint for a set of related classes, and cannot be instantiated themselves. To use an abstract class, you must create a concrete implementation by subclassing it and providing concrete implementations for the abstract methods."
   ]
  }
 ],
 "metadata": {
  "kernelspec": {
   "display_name": "Python 3 (ipykernel)",
   "language": "python",
   "name": "python3"
  },
  "language_info": {
   "codemirror_mode": {
    "name": "ipython",
    "version": 3
   },
   "file_extension": ".py",
   "mimetype": "text/x-python",
   "name": "python",
   "nbconvert_exporter": "python",
   "pygments_lexer": "ipython3",
   "version": "3.10.8"
  }
 },
 "nbformat": 4,
 "nbformat_minor": 5
}
