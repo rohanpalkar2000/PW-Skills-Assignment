{
 "cells": [
  {
   "cell_type": "markdown",
   "id": "b8ce8231-cc1d-4bde-ad3b-c6c2ebed1e0e",
   "metadata": {},
   "source": [
    "Question 1: Create a function which will take a list as an argument and return the product of all the numbers\n",
    "after creating a flat list.\n",
    "Use the below-given list as an argument for your function.\n",
    "\n",
    "list1 = [1,2,3,4, [44,55,66, True], False, (34,56,78,89,34), {1,2,3,3,2,1}, {1:34, \"key2\": [55, 67, 78, 89], 4: (45,\n",
    "22, 61, 34)}, [56, 'data science'], 'Machine Learning']\n",
    "\n",
    "Note: you must extract numeric keys and values of the dictionary also."
   ]
  },
  {
   "cell_type": "code",
   "execution_count": 6,
   "id": "dc487665-422e-470d-93d9-5454c84873c8",
   "metadata": {},
   "outputs": [
    {
     "name": "stdout",
     "output_type": "stream",
     "text": [
      "578815684656168960\n"
     ]
    }
   ],
   "source": [
    "def product_of_numbers(lst):\n",
    "    flat_list = []\n",
    "    def flatten(lst):\n",
    "        for item in lst:\n",
    "            if type(item) == list or type(item) == tuple or type(item) == set:\n",
    "                flatten(item)\n",
    "            elif type(item) == int or type(item) == float:\n",
    "                flat_list.append(item)\n",
    "    flatten(lst)\n",
    "    product = 1\n",
    "    for num in flat_list:\n",
    "        product *= num\n",
    "    return product\n",
    "\n",
    "list1 = [1,2,3,4, [44,55,66, True], False, (34,56,78,89,34), {1,2,3,3,2,1}, {1:34, \"key2\": [55, 67, 78, 89], 4: (45, 22, 61, 34)}, [56, 'data science'], 'Machine Learning']\n",
    "print(product_of_numbers(list1))"
   ]
  },
  {
   "cell_type": "code",
   "execution_count": 7,
   "id": "c87ff9c3-6f2f-48cb-89fd-71e1015fb5c9",
   "metadata": {},
   "outputs": [
    {
     "name": "stdout",
     "output_type": "stream",
     "text": [
      "Genuine List: [1, 2, 3, 4, [44, 55, 66, True], False, (34, 56, 78, 89, 34), {1, 2, 3}, {1: 34, 'key2': [55, 67, 78, 89], 4: (45, 22, 61, 34)}, [56, 'data science'], 'Machine Learning']\n",
      "Converted Flat List: [1, 2, 3, 4, 44, 55, 66, True, False, (34, 56, 78, 89, 34), {1, 2, 3}, {1: 34, 'key2': [55, 67, 78, 89], 4: (45, 22, 61, 34)}, 56, 'data science', 'Machine Learning']\n"
     ]
    }
   ],
   "source": [
    "def flattenlist(_2dlist):  \n",
    "    # defining an empty list  \n",
    "    flatlist = []  \n",
    "    # Iterating through the outer list  \n",
    "    for item in _2dlist:  \n",
    "        if type(item) is list:  \n",
    "            # If the item is of the list type, iterating through the sub-list  \n",
    "            for element in item:  \n",
    "                flatlist.append(element)  \n",
    "        else:  \n",
    "            flatlist.append(item)  \n",
    "    return flatlist  \n",
    "  \n",
    "# defining the nested list  \n",
    "nestedlist = [1,2,3,4, [44,55,66, True], False, (34,56,78,89,34), {1,2,3,3,2,1}, {1:34, \"key2\": [55, 67, 78, 89], 4: (45, 22, 61, 34)}, [56, 'data science'], 'Machine Learning']\n",
    "print('Genuine List:', nestedlist)  \n",
    "print('Converted Flat List:', flattenlist(nestedlist))  "
   ]
  },
  {
   "cell_type": "code",
   "execution_count": null,
   "id": "966c90ca-a9f6-4357-819e-d1c1ebf85d34",
   "metadata": {},
   "outputs": [],
   "source": []
  },
  {
   "cell_type": "markdown",
   "id": "521d8579-d5a7-423b-bfda-f87eb324661b",
   "metadata": {},
   "source": [
    "Question 2: Write a python program for encrypting a message sent to you by your friend. The logic of encryption\n",
    "should be such that, for a the output should be z. For b, the output should be y. For c, the output should\n",
    "be x respectively. Also, the whitespace should be replaced with a dollar sign. Keep the punctuation\n",
    "marks unchanged.\n",
    "\n",
    "Input Sentence: I want to become a Data Scientist.\n",
    "\n",
    "Encrypt the above input sentence using the program you just created.\n",
    "\n",
    "Note: Convert the given input sentence into lowercase before encrypting. The final output should be\n",
    "lowercase."
   ]
  },
  {
   "cell_type": "code",
   "execution_count": 8,
   "id": "b793797d-ad62-42c2-aa87-3eed331db93c",
   "metadata": {},
   "outputs": [
    {
     "name": "stdin",
     "output_type": "stream",
     "text": [
      " I want to become a Data Scientist\n"
     ]
    },
    {
     "name": "stdout",
     "output_type": "stream",
     "text": [
      "Encrypted message: I$dzmg$gl$yvxlnv$z$Dzgz$Sxrvmgrhg\n"
     ]
    }
   ],
   "source": [
    "def encrypt(message):\n",
    "    # Map each letter to its encrypted form\n",
    "    mapping = {'a': 'z', 'b': 'y', 'c': 'x', 'd': 'w', 'e': 'v', 'f': 'u', 'g': 't', 'h': 's', 'i': 'r', 'j': 'q',\n",
    "               'k': 'p', 'l': 'o', 'm': 'n', 'n': 'm', 'o': 'l', 'p': 'k', 'q': 'j', 'r': 'i', 's': 'h', 't': 'g',\n",
    "               'u': 'f', 'v': 'e', 'w': 'd', 'x': 'c', 'y': 'b', 'z': 'a', ' ': '$'}\n",
    "\n",
    "    encrypted_message = \"\"\n",
    "    for char in message:\n",
    "        if char in mapping:\n",
    "            encrypted_message += mapping[char]\n",
    "        else:\n",
    "            encrypted_message += char\n",
    "\n",
    "    return encrypted_message\n",
    "\n",
    "# Test the encryption\n",
    "message = input()\n",
    "encrypted_message = encrypt(message)\n",
    "print(\"Encrypted message:\", encrypted_message)"
   ]
  },
  {
   "cell_type": "code",
   "execution_count": null,
   "id": "c1c305bc-320e-41e6-8b88-b685a8da88e7",
   "metadata": {},
   "outputs": [],
   "source": []
  },
  {
   "cell_type": "code",
   "execution_count": null,
   "id": "7392bf87-392f-4b18-aadd-2146f5dad916",
   "metadata": {},
   "outputs": [],
   "source": []
  }
 ],
 "metadata": {
  "kernelspec": {
   "display_name": "Python 3 (ipykernel)",
   "language": "python",
   "name": "python3"
  },
  "language_info": {
   "codemirror_mode": {
    "name": "ipython",
    "version": 3
   },
   "file_extension": ".py",
   "mimetype": "text/x-python",
   "name": "python",
   "nbconvert_exporter": "python",
   "pygments_lexer": "ipython3",
   "version": "3.10.8"
  }
 },
 "nbformat": 4,
 "nbformat_minor": 5
}
