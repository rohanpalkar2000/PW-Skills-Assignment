{
 "cells": [
  {
   "cell_type": "markdown",
   "id": "5460066a-1027-43bf-aa0e-8b3c27f609ad",
   "metadata": {},
   "source": [
    "# Question 1: What is an API? Give an example, where an API is used in real life."
   ]
  },
  {
   "cell_type": "markdown",
   "id": "413374d8-bdc7-4ea4-bbdb-3b43386f4671",
   "metadata": {},
   "source": [
    "API stands for Application Programming Interface. In simple terms, an API is a set of protocols, routines, and tools that are used to build software applications. It defines how different software components should interact with each other, allowing developers to create applications that can communicate and exchange data with other applications, systems, or services.\n",
    "\n",
    "An example of how an API is used in real life is when you use a mobile app to order food from a restaurant. When you use the app to place your order, the app sends a request to the restaurant's API, which then processes the order and sends back a response. The API allows the app to access the restaurant's system and retrieve the necessary data, such as the menu, pricing, and order details. This enables you to place your order and receive confirmation in real-time, without having to call the restaurant or visit their website.\n",
    "\n",
    "Another example of an API in real life is when you use a social media platform like Facebook. When you log in to your account and interact with other users, you are using Facebook's API to access and retrieve the necessary data, such as your profile information, newsfeed, friends list, and messages. This allows you to use the platform and interact with other users in a seamless and convenient way."
   ]
  },
  {
   "cell_type": "markdown",
   "id": "88d83e2a-8f72-4113-a47a-2be2e5e075e2",
   "metadata": {},
   "source": [
    "# Question 2: Give advantages and disadvantages of using API."
   ]
  },
  {
   "cell_type": "markdown",
   "id": "9bd65e98-b75d-4ef0-b027-a0c17fc549c6",
   "metadata": {},
   "source": [
    "APIs have several advantages and disadvantages, which are outlined below:\n",
    "\n",
    "## Advantages:\n",
    "\n",
    "* Interoperability: APIs enable software components to interact with each other, even if they were developed by different companies, on different platforms, or in different programming languages. This makes it possible to create applications that can easily integrate with other systems or services.\n",
    "* Reusability: APIs can be reused across multiple applications, reducing development time and cost. This is because developers can leverage existing APIs to perform common functions, such as accessing data, without having to create the code from scratch.\n",
    "* Scalability: APIs allow applications to scale by distributing workload across different components or systems. This means that an application can handle increased traffic or user demand without slowing down or crashing.\n",
    "* Improved User Experience: APIs allow applications to deliver a better user experience by providing real-time data and functionality. For example, a weather app can use an API to deliver current weather conditions and forecasts, without the need for the user to manually update the app.\n",
    "\n",
    "## Disadvantages:\n",
    "* Security Risks: APIs can be vulnerable to security breaches if they are not properly secured or if they are used to access sensitive data. Hackers can exploit vulnerabilities in APIs to gain unauthorized access to systems or steal data.\n",
    "* Maintenance: APIs require maintenance and updates to ensure they are running smoothly and securely. This can be time-consuming and costly, especially if there are multiple APIs to maintain.\n",
    "* Complexity: APIs can be complex to use and require a certain level of technical expertise. This can make it difficult for non-technical users to understand how to use them.\n",
    "* Dependency: Applications that rely on third-party APIs are dependent on the availability and reliability of those APIs. If the API goes down or experiences performance issues, it can affect the functionality of the application.\n",
    "* Overall, the advantages of using APIs generally outweigh the disadvantages. However, it's important to carefully consider the risks and costs associated with using APIs before implementing them in your application."
   ]
  },
  {
   "cell_type": "markdown",
   "id": "a683ef92-0a56-4b4b-bc87-1dccf0710a44",
   "metadata": {},
   "source": [
    "# Question 3: What is a Web API? Differentiate between API and Web API."
   ]
  },
  {
   "cell_type": "markdown",
   "id": "9b53e0bd-94d1-4f26-8355-d8452ef07b1d",
   "metadata": {},
   "source": [
    "A Web API, also known as a web service, is an API that is specifically designed for use over the internet. It uses HTTP requests to communicate with clients and can be accessed using a web browser or other software application. Web APIs are commonly used for sharing data and functionality between different software applications.\n",
    "\n",
    "The main difference between a generic API and a Web API is that a Web API is accessed over the internet, whereas a generic API can be accessed locally on a device or within a closed network. A Web API typically uses the HTTP protocol to make requests and receive responses, while a generic API can use a variety of different communication protocols, such as TCP/IP, UDP, or serial communication.\n",
    "\n",
    "Another difference is that Web APIs are often designed to be consumed by a wider range of clients, including web browsers, mobile devices, and other software applications. They typically use web-based technologies, such as XML, JSON, and REST (Representational State Transfer) to communicate with clients.\n",
    "\n",
    "In summary, while all Web APIs are APIs, not all APIs are Web APIs. Web APIs are specifically designed to be accessed over the internet and typically use HTTP to communicate with clients, while generic APIs can be accessed locally or within a closed network and can use a variety of different communication protocols."
   ]
  },
  {
   "cell_type": "markdown",
   "id": "4481b2d5-89c6-42d3-acc2-f95d0bbcdcf6",
   "metadata": {},
   "source": [
    "# Question 4: Explain REST and SOAP Architecture. Mention shortcomings of SOAP."
   ]
  },
  {
   "cell_type": "code",
   "execution_count": null,
   "id": "5791a916-deb3-4979-becd-3bff5df79fe2",
   "metadata": {},
   "outputs": [],
   "source": []
  },
  {
   "cell_type": "markdown",
   "id": "b99c7df7-59c4-42b1-812b-cd82fbaf7829",
   "metadata": {},
   "source": [
    "# Question 5: Differentiate between REST and SOAP."
   ]
  },
  {
   "cell_type": "code",
   "execution_count": null,
   "id": "9de07ee7-de10-4e54-9343-3e0c10c504c7",
   "metadata": {},
   "outputs": [],
   "source": []
  }
 ],
 "metadata": {
  "kernelspec": {
   "display_name": "Python 3 (ipykernel)",
   "language": "python",
   "name": "python3"
  },
  "language_info": {
   "codemirror_mode": {
    "name": "ipython",
    "version": 3
   },
   "file_extension": ".py",
   "mimetype": "text/x-python",
   "name": "python",
   "nbconvert_exporter": "python",
   "pygments_lexer": "ipython3",
   "version": "3.10.8"
  }
 },
 "nbformat": 4,
 "nbformat_minor": 5
}
