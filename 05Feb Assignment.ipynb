{
 "cells": [
  {
   "cell_type": "markdown",
   "id": "06779d2c-4921-443c-995c-80f2b19c1848",
   "metadata": {},
   "source": [
    "Quesion 1: Explain Class and Object with respect to Object-Oriented Programming. Give a suitable example."
   ]
  },
  {
   "cell_type": "markdown",
   "id": "14f0e1bc-f910-40aa-bfa3-2ad2bb824b13",
   "metadata": {},
   "source": [
    "Object − \n",
    "\n",
    "If we consider the real-world, we can find many objects around us, cars, dogs, humans, etc. All these objects have a state and a behavior.\n",
    "Objects have states and behaviors. \n",
    "If we consider a dog, then its state is - name, breed, color, and the behavior is - barking, wagging the tail, running.\n",
    "\n",
    "\n",
    "Class − \n",
    "\n",
    "In object-oriented programming, a class is a blueprint or a template for creating objects (an instance of the class). It defines a set of attributes and behaviors that an object of that class will have. A class can be considered as a blueprint for the object or objects that can be created using it.\n",
    "A class can be defined as a template/blueprint that describes the behavior/state that the object of its type support.\n",
    "\n",
    "\n",
    "Example: Let's consider a class called \"Car\". A Car class might have attributes such as color, make, model, and year, and behaviors such as start, stop, and drive. \n",
    "An object of the Car class would be a specific car, such as a red 2022 Toyota Corolla. The red 2022 Toyota Corolla would have the attributes of color (red), make (Toyota), model (Corolla), and year (2022), and it would be able to perform the behaviors start, stop, and drive."
   ]
  },
  {
   "cell_type": "markdown",
   "id": "84a1bf1b-4007-4b03-b15c-8f2df34e1714",
   "metadata": {},
   "source": [
    "Quesion 2: Name the four pillars of OOPs."
   ]
  },
  {
   "cell_type": "markdown",
   "id": "85f9469b-e694-4bda-a76a-615dfed9010f",
   "metadata": {},
   "source": [
    "1. Abstraction\n",
    "    Abstraction refers to the practice of exposing only the relevant information and hiding the complexity of the implementation. \n",
    "    It allows the user to focus on what the object does rather than how it does it.\n",
    "\n",
    "2. Encapsulation\n",
    "    Encapsulation is the mechanism of wrapping the data (variables) and functions that operate on that data within a single unit or object. \n",
    "    This protects the data from accidental corruption and provides a secure way to access the data.\n",
    "\n",
    "3. Inheritance\n",
    "     Inheritance is a mechanism where a new class can be derived from an existing class. The derived class inherits all the attributes and behaviors of the parent class and can also have its own attributes and behaviors.\n",
    "\n",
    "4. Polymorphism\n",
    "    Polymorphism is the ability of an object to take on multiple forms. This is achieved in OOP by defining methods with the same name in different classes that are related by inheritance. \n",
    "    When a method is called on an object, the correct implementation of that method is executed based on the object's actual class."
   ]
  },
  {
   "cell_type": "markdown",
   "id": "210ed767-8bf7-4317-8d1d-3fbe0d1e70d2",
   "metadata": {},
   "source": [
    "Quesion 3: Explain why the __init__() function is used. Give a suitable example."
   ]
  },
  {
   "cell_type": "code",
   "execution_count": 6,
   "id": "39e6ef1a-1396-4391-930f-85f66534a47f",
   "metadata": {},
   "outputs": [
    {
     "name": "stdout",
     "output_type": "stream",
     "text": [
      "ROHAN\n",
      "22\n"
     ]
    }
   ],
   "source": [
    "# The init() function is used in object-oriented programming to initialize the attributes of an object at the time of its creation. It is a special method that is automatically called when an object is created from a class. The init() method is also known as a constructor.\n",
    "\n",
    "# The init() function allows you to set the default values for the object's attributes, perform any initializations, and allocate any required memory when the object is created. The method takes the newly created object as its first argument (usually referred to as self), and additional arguments can be passed to initialize the object's attributes.\n",
    "\n",
    "# Example: Consider a class Person that represents a person's name and age. The init() function can be used to initialize these attributes when a new object of the Person class is created.\n",
    "\n",
    "class Person:\n",
    "    def __init__(self, name, age):\n",
    "        self.name = name\n",
    "        self.age = age\n",
    "\n",
    "person = Person(\"ROHAN\",22)\n",
    "print(person.name) \n",
    "print(person.age) "
   ]
  },
  {
   "cell_type": "markdown",
   "id": "745c3df1-677d-4ed8-875a-a4b3de5413be",
   "metadata": {},
   "source": [
    "Quesion 4: Why self is used in OOPs?"
   ]
  },
  {
   "cell_type": "code",
   "execution_count": 8,
   "id": "a12146e8-a7e7-4071-a6ef-737a85616b9f",
   "metadata": {},
   "outputs": [
    {
     "name": "stdout",
     "output_type": "stream",
     "text": [
      "ROHAN\n",
      "RAHUL\n"
     ]
    }
   ],
   "source": [
    "# The self variable is used to represent the instance of the class which is often used in object-oriented programming. \n",
    "# It works as a reference to the object. Python uses the self parameter to refer to instance attributes and methods of the class.\n",
    "# Python does not use the “@” syntax to access the instance attributes. This is the sole reason why you need to use the self variable in Python. \n",
    "# The language contains methods that allow the instance to be passed automatically but not received automatically. \n",
    "\n",
    "class Person:\n",
    "    def __init__(self, name, age):\n",
    "        self.name = name\n",
    "        self.age = age\n",
    "        \n",
    "    def set_name(self, name):\n",
    "        self.name = name\n",
    "        \n",
    "    def set_age(self, age):\n",
    "        self.age = age\n",
    "\n",
    "person = Person(\"ROHAN\",22)\n",
    "print(person.name) \n",
    "person.set_name(\"RAHUL\")\n",
    "print(person.name) "
   ]
  },
  {
   "cell_type": "markdown",
   "id": "9e9fdc7a-cf2a-41b6-a702-8b71cb174f60",
   "metadata": {},
   "source": [
    "\n",
    "Quesion 5: What is inheritance? Give an example for each type of inheritance.\n",
    "\n",
    "\n",
    "Ans: Inheritance is a mechanism in object-oriented programming (OOP) that allows a new class to be derived from an existing class. The derived class inherits all the attributes and behaviors of the parent class and can also have its own attributes and behaviors. Inheritance enables code reuse and makes it easier to create and maintain large, complex systems.\n",
    "\n",
    "There are several types of inheritance, including:\n",
    "\n",
    "1. Single inheritance: Single inheritance is a type of inheritance where a derived class inherits from a single base class.\n",
    "\n",
    "Example:"
   ]
  },
  {
   "cell_type": "code",
   "execution_count": 12,
   "id": "05d7b110-66aa-4449-9682-cbfa39ffeb21",
   "metadata": {},
   "outputs": [
    {
     "name": "stdout",
     "output_type": "stream",
     "text": [
      "cat\n",
      "4\n",
      "Meow\n"
     ]
    }
   ],
   "source": [
    "class Animal:\n",
    "    def __init__(self, species, legs):\n",
    "        self.species = species\n",
    "        self.legs = legs\n",
    "        \n",
    "    def make_sound(self):\n",
    "        print(\"Some animal sound\")\n",
    "        \n",
    "class Cat(Animal):\n",
    "    def __init__(self, breed):\n",
    "        Animal.__init__(self, \"cat\", 4)\n",
    "        self.breed = breed\n",
    "        \n",
    "    def make_sound(self):\n",
    "        print(\"Meow\")\n",
    "        \n",
    "cat = Cat(\"Persian\")\n",
    "print(cat.species) \n",
    "print(cat.legs) \n",
    "cat.make_sound() "
   ]
  },
  {
   "cell_type": "markdown",
   "id": "c416106b-a8e9-45d4-885e-4772cb54f218",
   "metadata": {},
   "source": [
    "2. Multiple inheritance: Multiple inheritance is a type of inheritance where a derived class inherits from multiple base classes.\n",
    "\n",
    "Example:"
   ]
  },
  {
   "cell_type": "code",
   "execution_count": 15,
   "id": "8df1b657-fb5e-4215-8b85-86ad9176187c",
   "metadata": {},
   "outputs": [
    {
     "name": "stdout",
     "output_type": "stream",
     "text": [
      "Cat\n",
      "4\n",
      "True\n",
      "Meaw\n"
     ]
    }
   ],
   "source": [
    "class Animal:\n",
    "    def __init__(self, species, legs):\n",
    "        self.species = species\n",
    "        self.legs = legs\n",
    "        \n",
    "    def make_sound(self):\n",
    "        print(\"Some animal sound\")\n",
    "        \n",
    "class DomesticAnimal:\n",
    "    def __init__(self, domesticated):\n",
    "        self.domesticated = domesticated\n",
    "        \n",
    "class Cat(Animal, DomesticAnimal):\n",
    "    def __init__(self, breed):\n",
    "        Animal.__init__(self, \"Cat\", 4)\n",
    "        DomesticAnimal.__init__(self, True)\n",
    "        self.breed = breed\n",
    "        \n",
    "    def make_sound(self):\n",
    "        print(\"Meaw\")\n",
    "        \n",
    "cat = Cat(\"Persian\")\n",
    "print(cat.species) \n",
    "print(cat.legs) \n",
    "print(cat.domesticated) \n",
    "cat.make_sound() "
   ]
  },
  {
   "cell_type": "markdown",
   "id": "760df118-7f75-4eb1-b137-c1115609f357",
   "metadata": {},
   "source": [
    "3. Multi-level inheritance: Multi-level inheritance is a type of inheritance where a derived class inherits from a base class, which in turn inherits from another base class.\n",
    "\n",
    "Example:"
   ]
  },
  {
   "cell_type": "code",
   "execution_count": 17,
   "id": "e302e84f-843a-4aeb-9ec3-b5d7ad2f22ac",
   "metadata": {},
   "outputs": [
    {
     "name": "stdout",
     "output_type": "stream",
     "text": [
      "Dog\n",
      "4\n"
     ]
    }
   ],
   "source": [
    "class Animal:\n",
    "    def __init__(self, species, legs):\n",
    "        self.species = species\n",
    "        self.legs = legs\n",
    "        \n",
    "    def make_sound(self):\n",
    "        print(\"Some animal sound\")\n",
    "        \n",
    "class Mammal(Animal):\n",
    "    def __init__(self, fur):\n",
    "        Animal.__init__(self, \"Mammal\", 4)\n",
    "        self.fur = fur\n",
    "        \n",
    "class Cat(Mammal):\n",
    "    def __init__(self, breed):\n",
    "        Mammal.__init__(self, True)\n",
    "        self.breed = breed\n",
    "        \n",
    "    def make_sound(self):\n",
    "        print(\"Bark\")\n",
    "        \n",
    "dog = Dog(\"Labrador\")\n",
    "print(dog.species) \n",
    "print(dog.legs) "
   ]
  }
 ],
 "metadata": {
  "kernelspec": {
   "display_name": "Python 3 (ipykernel)",
   "language": "python",
   "name": "python3"
  },
  "language_info": {
   "codemirror_mode": {
    "name": "ipython",
    "version": 3
   },
   "file_extension": ".py",
   "mimetype": "text/x-python",
   "name": "python",
   "nbconvert_exporter": "python",
   "pygments_lexer": "ipython3",
   "version": "3.10.8"
  }
 },
 "nbformat": 4,
 "nbformat_minor": 5
}
