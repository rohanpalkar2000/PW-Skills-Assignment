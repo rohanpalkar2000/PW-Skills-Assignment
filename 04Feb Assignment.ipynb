{
 "cells": [
  {
   "cell_type": "markdown",
   "id": "df34f246-9fa5-4772-88ce-1fdd0020dbba",
   "metadata": {},
   "source": [
    "Question 1: Create a python program to sort the given list of tuples based on integer value using a\n",
    "lambda function.\n",
    "\n",
    "[('Sachin Tendulkar', 34357), ('Ricky Ponting', 27483), ('Jack Kallis', 25534), ('Virat Kohli', 24936)]"
   ]
  },
  {
   "cell_type": "code",
   "execution_count": 3,
   "id": "25dccb1a-adb9-43b2-a88f-bc705fa0851e",
   "metadata": {},
   "outputs": [
    {
     "name": "stdout",
     "output_type": "stream",
     "text": [
      "[('Virat Kohli', 24936), ('Jack Kallis', 25534), ('Ricky Ponting', 27483), ('Sachin Tendulkar', 34357)]\n"
     ]
    }
   ],
   "source": [
    "l1 = [('Sachin Tendulkar', 34357), ('Ricky Ponting', 27483), ('Jack Kallis', 25534), ('Virat Kohli', 24936)]\n",
    "l1.sort(key = lambda l1: l1[1])\n",
    "print(l1)"
   ]
  },
  {
   "cell_type": "markdown",
   "id": "2469350f-c7e5-4909-9323-da696de783bf",
   "metadata": {},
   "source": [
    "Question 2: rite a Python Program to find the squares of all the numbers in the given list of integers using\n",
    "lambda and map functions.\n",
    "[1, 2, 3, 4, 5, 6, 7, 8, 9, 10]"
   ]
  },
  {
   "cell_type": "code",
   "execution_count": 11,
   "id": "51c852dd-e304-4aa2-9a16-cc6f57645be6",
   "metadata": {},
   "outputs": [
    {
     "name": "stdout",
     "output_type": "stream",
     "text": [
      "[1, 4, 9, 16, 25, 36, 49, 64, 81, 100]\n"
     ]
    }
   ],
   "source": [
    "l2 = [1, 2, 3, 4, 5, 6, 7, 8, 9, 10]\n",
    "print(list(map(lambda x: x**2, l2)))"
   ]
  },
  {
   "cell_type": "markdown",
   "id": "3cee2c35-f32b-4967-90ce-7c295abd88d6",
   "metadata": {},
   "source": [
    "Questiton 3: Write a python program to convert the given list of integers into a tuple of strings. Use map and\n",
    "lambda functions\n",
    "Given String: [1, 2, 3, 4, 5, 6, 7, 8, 9, 10]\n",
    "\n",
    "Expected output: ('1', '2', '3', '4', '5', '6', '7', '8', '9', '10')"
   ]
  },
  {
   "cell_type": "code",
   "execution_count": 4,
   "id": "ad4394c0-2413-4b7f-83ea-a4243acb5ecf",
   "metadata": {},
   "outputs": [
    {
     "name": "stdout",
     "output_type": "stream",
     "text": [
      "('1', '2', '3', '4', '5', '6', '7', '8', '9', '10')\n"
     ]
    }
   ],
   "source": [
    "l3 = [1, 2, 3, 4, 5, 6, 7, 8, 9, 10]\n",
    "print(tuple(map(lambda x: str(x), l3)))"
   ]
  },
  {
   "cell_type": "markdown",
   "id": "782fcfdf-eaad-4cf3-8169-e280cc25f84a",
   "metadata": {},
   "source": [
    "Questiton 4: Write a python program using reduce function to compute the product of a list containing numbers\n",
    "from 1 to 25."
   ]
  },
  {
   "cell_type": "code",
   "execution_count": 5,
   "id": "36505f3b-6877-4b8e-904c-dda9ee3c3a7d",
   "metadata": {},
   "outputs": [
    {
     "name": "stdout",
     "output_type": "stream",
     "text": [
      "15511210043330985984000000\n"
     ]
    }
   ],
   "source": [
    "from functools import reduce\n",
    "l4=[1, 2, 3, 4, 5, 6, 7, 8, 9, 10, 11, 12, 13, 14, 15, 16, 17, 18, 19, 20, 21, 22, 23, 24, 25]\n",
    "print(reduce(lambda x, y: x*y,  l4))"
   ]
  },
  {
   "cell_type": "markdown",
   "id": "a5577af4-803c-47bf-b52f-0576b0c110d3",
   "metadata": {},
   "source": [
    "Questiton 5: Write a python program to filter the numbers in a given list that are divisible by 2 and 3 using the\n",
    "filter function.\n",
    "\n",
    "[2, 3, 6, 9, 27, 60, 90, 120, 55, 46]"
   ]
  },
  {
   "cell_type": "code",
   "execution_count": 6,
   "id": "67e41be6-84e0-4420-baa5-ca3df59fe884",
   "metadata": {},
   "outputs": [
    {
     "name": "stdout",
     "output_type": "stream",
     "text": [
      "[6, 60, 90, 120]\n"
     ]
    }
   ],
   "source": [
    "l5 = [2, 3, 6, 9, 27, 60, 90, 120, 55, 46]\n",
    "print(list(filter(lambda x: x%2==0 and x%3==0, l5)))"
   ]
  },
  {
   "cell_type": "markdown",
   "id": "4713a6ec-126e-4dd7-8113-1a6ac70041b0",
   "metadata": {},
   "source": [
    "Questiton 6:  Write a python program to find palindromes in the given list of strings using lambda and filter\n",
    "function.\n",
    "\n",
    "['python', 'php', 'aba', 'radar', 'level']"
   ]
  },
  {
   "cell_type": "code",
   "execution_count": 9,
   "id": "1c336d27-8c65-41c1-958d-002e35007c8f",
   "metadata": {},
   "outputs": [
    {
     "name": "stdout",
     "output_type": "stream",
     "text": [
      "['php', 'aba', 'radar', 'level']\n"
     ]
    }
   ],
   "source": [
    "l6 = ['python', 'php', 'aba', 'radar', 'level']\n",
    "print(list(filter(lambda s: s==s[::-1], l6)))"
   ]
  }
 ],
 "metadata": {
  "kernelspec": {
   "display_name": "Python 3 (ipykernel)",
   "language": "python",
   "name": "python3"
  },
  "language_info": {
   "codemirror_mode": {
    "name": "ipython",
    "version": 3
   },
   "file_extension": ".py",
   "mimetype": "text/x-python",
   "name": "python",
   "nbconvert_exporter": "python",
   "pygments_lexer": "ipython3",
   "version": "3.10.8"
  }
 },
 "nbformat": 4,
 "nbformat_minor": 5
}
