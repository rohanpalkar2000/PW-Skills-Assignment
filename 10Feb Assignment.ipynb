{
 "cells": [
  {
   "cell_type": "markdown",
   "id": "4cea2b4c-f274-46de-bd4a-62329fc9456f",
   "metadata": {},
   "source": [
    "**Question 1: Which function is used to open a file? What are the different modes of opening a file? Explain each mode\n",
    "of file opening.**"
   ]
  },
  {
   "cell_type": "markdown",
   "id": "22398511-5e80-441d-8885-ecb0ad44b804",
   "metadata": {},
   "source": [
    "#### File Opening:-\n",
    "\n",
    "The fopen() function is used to create a file or open an existing file: fp = fopen(const char filename,const char mode); \n",
    "\n",
    "\n",
    "### Modes for opening a file:-\n",
    "\n",
    "1. Read Only (‘r’) :  Open text file for reading. The handle is positioned at the beginning of the file. If the file does not exists, raises the I/O error. This is also the default mode in which a file is opened.\n",
    "2. Read and Write (‘r+’):  Open the file for reading and writing. The handle is positioned at the beginning of the file. Raises I/O error if the file does not exist.\n",
    "3. Write Only (‘w’) :  Open the file for writing. For the existing files, the data is truncated and over-written. The handle is positioned at the beginning of the file. Creates the file if the file does not exist.\n",
    "4. Write and Read (‘w+’) :  Open the file for reading and writing. For an existing file, data is truncated and over-written. The handle is positioned at the beginning of the file.\n",
    "5. Append Only (‘a’):  Open the file for writing. The file is created if it does not exist. The handle is positioned at the end of the file. The data being written will be inserted at the end, after the existing data.\n",
    "6. Append and Read (‘a+’) :  Open the file for reading and writing. The file is created if it does not exist. The handle is positioned at the end of the file. The data being written will be inserted at the end, after the existing data.\n",
    "\n"
   ]
  },
  {
   "cell_type": "markdown",
   "id": "35187e2b-e900-46ec-9bf9-eccc20abdbdf",
   "metadata": {},
   "source": [
    "**Question 2: Why close() function is used? Why is it important to close a file?**"
   ]
  },
  {
   "cell_type": "markdown",
   "id": "5adb83d3-cf17-4d25-866d-e77ffc473712",
   "metadata": {},
   "source": [
    "The close() function shall deallocate the file descriptor indicated by fildes. To deallocate means to make the file descriptor available for return by subsequent calls to open() or other functions that allocate file descriptors.\n",
    "\n",
    "Because files are limited resources managed by the operating system, making sure files are closed after use will protect against hard-to-debug issues like running out of file handles or experiencing corrupted data. The best defense is always to open files with a context manager."
   ]
  },
  {
   "cell_type": "markdown",
   "id": "dcca6227-e0d3-49fa-a996-f6a394bc2dd6",
   "metadata": {},
   "source": [
    "**Question 3: Write a python program to create a text file. Write ‘I want to become a Data Scientist’ in that file. Then\n",
    "close the file. Open this file and read the content of the file.**"
   ]
  },
  {
   "cell_type": "code",
   "execution_count": 2,
   "id": "f4ea8d0d-85c3-4cd7-910d-d4d35c66ba67",
   "metadata": {},
   "outputs": [
    {
     "name": "stdout",
     "output_type": "stream",
     "text": [
      "Output of Read function is :- \n",
      "I want to become a Data Scientist \n",
      "\n",
      "\n"
     ]
    }
   ],
   "source": [
    "file1 = open(\"my_txt_file.txt\",\"w\")\n",
    "L = [\"I want to become a Data Scientist \\n\"] \n",
    "  \n",
    "file1.writelines(L)\n",
    "file1.close()\n",
    "  \n",
    "file1 = open(\"my_txt_file.txt\",\"r+\") \n",
    "  \n",
    "print(\"Output of Read function is :- \")\n",
    "print(file1.read())\n",
    "print()\n"
   ]
  },
  {
   "cell_type": "markdown",
   "id": "5c6a7b78-c2cf-487c-a94d-086e559714b5",
   "metadata": {},
   "source": [
    "**Question 4: Explain the following with python code: read(), readline() and readlines().**"
   ]
  },
  {
   "cell_type": "code",
   "execution_count": 17,
   "id": "481507c1-f947-4bb3-9e1e-53ee076669e5",
   "metadata": {},
   "outputs": [
    {
     "name": "stdout",
     "output_type": "stream",
     "text": [
      "This is example of read() function :-\n",
      "I want to become a Data Scientist\n",
      "\n",
      "\n",
      "This is example of readline() function :-\n",
      "I want to become a Data Scientist \n",
      "\n",
      "\n",
      "\n",
      "This is example of readlines() function :-\n",
      "['I want to become a Data Scientist \\n']\n"
     ]
    }
   ],
   "source": [
    "print(\"This is example of read() function :-\")\n",
    "# The read() method returns the specified number of bytes from the file. Default is -1 which means the whole file.\n",
    "## read() function\n",
    "f = open(\"my_txt_file.txt\", \"r\")\n",
    "print(f.read(33))\n",
    "print(\"\\n\")\n",
    "\n",
    "\n",
    "print(\"This is example of readline() function :-\")\n",
    "# Python readline() is a file method that helps to read one complete line from the given file. It has a trailing newline (“\\n”) at the end of the string returned.\n",
    "## readline() function\n",
    "myfile = open(\"my_txt_file.txt\", \"r\")\n",
    "myline = myfile.readline()\n",
    "print(myline)\n",
    "myfile.close()\n",
    "print(\"\\n\")\n",
    "\n",
    "\n",
    "print(\"This is example of readlines() function :-\")\n",
    "# The readlines() method returns a list containing each line in the file as a list item.\n",
    "# Use the hint parameter to limit the number of lines returned. If the total number of bytes returned exceeds the specified number, no more lines are returned.\n",
    "## readlines() \n",
    "f = open(\"my_txt_file.txt\", \"r\")\n",
    "print(f.readlines())\n"
   ]
  },
  {
   "cell_type": "markdown",
   "id": "743c6a51-230e-43b2-a089-7f2788843ae3",
   "metadata": {},
   "source": [
    "**Question 5: Explain why with statement is used with open(). What is the advantage of using with statement and\n",
    "open() together?** "
   ]
  },
  {
   "cell_type": "code",
   "execution_count": 21,
   "id": "46cfe7cc-49b8-4a5e-a438-96bfc53da75b",
   "metadata": {},
   "outputs": [
    {
     "name": "stdout",
     "output_type": "stream",
     "text": [
      "Hello world \n",
      "I hope you're doing well today \n",
      "This is a text file \n",
      "\n"
     ]
    }
   ],
   "source": [
    "# The with statement works with the open() function to open a file. Unlike open() where you have to close the file with the close() method, the with statement closes the file for you without you telling it to.\n",
    "# The with statement is a replacement for commonly used try/finally error-handling statements. The with statement automatically closes the file after you’ve completed writing it.\n",
    "with open(\"hello.txt\", \"w\") as my_file:\n",
    "    my_file.write(\"Hello world \\n\")\n",
    "    my_file.write(\"I hope you're doing well today \\n\")\n",
    "    my_file.write(\"This is a text file \\n\")\n",
    "\n",
    "with open(\"hello.txt\") as my_file:\n",
    "    print(my_file.read())\n",
    "    \n",
    "    \n",
    "# You might be wondering which way you should use to work with files between the combo of with and open() and just the open() function. \n",
    "# I would advise you to use the combination of with and open() because the with statement closes the file for you and you get to write less code."
   ]
  },
  {
   "cell_type": "markdown",
   "id": "88f158b7-db70-4862-bcda-0aff64252d00",
   "metadata": {},
   "source": [
    "**Question 6: Explain the write() and writelines() functions. Give a suitable example.**"
   ]
  },
  {
   "cell_type": "code",
   "execution_count": 12,
   "id": "bb9ba81d-dffb-4701-b943-c34771a83de7",
   "metadata": {},
   "outputs": [
    {
     "name": "stdout",
     "output_type": "stream",
     "text": [
      "\n",
      " This is write() function method\n",
      " This is write() function method\n"
     ]
    }
   ],
   "source": [
    "## write() function :-\n",
    "\n",
    "# The write() method writes a specified text to the file.\n",
    "# Where the specified text will be inserted depends on the file mode and stream position.\n",
    "# \"a\":  The text will be inserted at the current file stream position, default at the end of the file.\n",
    "# \"w\": The file will be emptied before the text will be inserted at the current file stream position, default 0.\n",
    "\n",
    "# syntax :- \n",
    "#     file.write(byte)\n",
    "    \n",
    "    \n",
    "f = open(\"demofile2.txt\", \"a\")\n",
    "f.write(\"\\n This is write() function method\")\n",
    "f.close()\n",
    "\n",
    "#open and read the file after the appending:\n",
    "f = open(\"demofile2.txt\", \"r\")\n",
    "print(f.read())\n"
   ]
  },
  {
   "cell_type": "code",
   "execution_count": 13,
   "id": "ec190d49-bc6b-4541-92af-8ab238741324",
   "metadata": {},
   "outputs": [
    {
     "name": "stdout",
     "output_type": "stream",
     "text": [
      "\n",
      " This is writelines() function method\n",
      " This is writelines() function method\n"
     ]
    }
   ],
   "source": [
    "## writelines() function :-\n",
    "\n",
    "# The writelines() method writes the items of a list to the file.\n",
    "# Where the texts will be inserted depends on the file mode and stream position.\n",
    "# \"a\":  The texts will be inserted at the current file stream position, default at the end of the file.\n",
    "# \"w\": The file will be emptied before the texts will be inserted at the current file stream position, default 0.\n",
    "\n",
    "# syntax :-\n",
    "#     file.writelines(list)\n",
    "\n",
    "f = open(\"demofile3.txt\", \"a\")\n",
    "f.writelines([\"\\n This is writelines() function method\"])\n",
    "f.close()\n",
    "\n",
    "#open and read the file after the appending:\n",
    "f = open(\"demofile3.txt\", \"r\")\n",
    "print(f.read())\n"
   ]
  }
 ],
 "metadata": {
  "kernelspec": {
   "display_name": "Python 3 (ipykernel)",
   "language": "python",
   "name": "python3"
  },
  "language_info": {
   "codemirror_mode": {
    "name": "ipython",
    "version": 3
   },
   "file_extension": ".py",
   "mimetype": "text/x-python",
   "name": "python",
   "nbconvert_exporter": "python",
   "pygments_lexer": "ipython3",
   "version": "3.10.8"
  }
 },
 "nbformat": 4,
 "nbformat_minor": 5
}
